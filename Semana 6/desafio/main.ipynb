{
 "cells": [
  {
   "cell_type": "markdown",
   "metadata": {},
   "source": [
    "# Desafio 5\n",
    "\n",
    "Neste desafio, vamos praticar sobre redução de dimensionalidade com PCA e seleção de variáveis com RFE. Utilizaremos o _data set_ [Fifa 2019](https://www.kaggle.com/karangadiya/fifa19), contendo originalmente 89 variáveis de mais de 18 mil jogadores do _game_ FIFA 2019.\n",
    "\n",
    "> Obs.: Por favor, não modifique o nome das funções de resposta."
   ]
  },
  {
   "cell_type": "markdown",
   "metadata": {},
   "source": [
    "## _Setup_ geral"
   ]
  },
  {
   "cell_type": "code",
   "execution_count": 1,
   "metadata": {},
   "outputs": [],
   "source": [
    "from math import sqrt\n",
    "\n",
    "import pandas as pd\n",
    "import matplotlib.pyplot as plt\n",
    "import numpy as np\n",
    "import scipy.stats as sct\n",
    "import seaborn as sns\n",
    "import statsmodels.api as sm\n",
    "import statsmodels.stats as st\n",
    "from sklearn.decomposition import PCA\n",
    "from sklearn.linear_model import LinearRegression\n",
    "from sklearn.feature_selection import RFE\n",
    "from loguru import logger"
   ]
  },
  {
   "cell_type": "code",
   "execution_count": 2,
   "metadata": {},
   "outputs": [
    {
     "output_type": "execute_result",
     "data": {
      "text/plain": "'%matplotlib inline\\n\\nfrom IPython.core.pylabtools import figsize\\n\\n\\nfigsize(12, 8)\\n\\nsns.set()'"
     },
     "metadata": {},
     "execution_count": 2
    }
   ],
   "source": [
    "# Algumas configurações para o matplotlib.\n",
    "\"\"\"%matplotlib inline\n",
    "\n",
    "from IPython.core.pylabtools import figsize\n",
    "\n",
    "\n",
    "figsize(12, 8)\n",
    "\n",
    "sns.set()\"\"\""
   ]
  },
  {
   "cell_type": "code",
   "execution_count": 3,
   "metadata": {
    "scrolled": false
   },
   "outputs": [],
   "source": [
    "fifa = pd.read_csv(\"./fifa2019.csv\")"
   ]
  },
  {
   "cell_type": "code",
   "execution_count": 4,
   "metadata": {},
   "outputs": [],
   "source": [
    "columns_to_drop = [\"Unnamed: 0\", \"ID\", \"Name\", \"Photo\", \"Nationality\", \"Flag\",\n",
    "                   \"Club\", \"Club Logo\", \"Value\", \"Wage\", \"Special\", \"Preferred Foot\",\n",
    "                   \"International Reputation\", \"Weak Foot\", \"Skill Moves\", \"Work Rate\",\n",
    "                   \"Body Type\", \"Real Face\", \"Position\", \"Jersey Number\", \"Joined\",\n",
    "                   \"Loaned From\", \"Contract Valid Until\", \"Height\", \"Weight\", \"LS\",\n",
    "                   \"ST\", \"RS\", \"LW\", \"LF\", \"CF\", \"RF\", \"RW\", \"LAM\", \"CAM\", \"RAM\", \"LM\",\n",
    "                   \"LCM\", \"CM\", \"RCM\", \"RM\", \"LWB\", \"LDM\", \"CDM\", \"RDM\", \"RWB\", \"LB\", \"LCB\",\n",
    "                   \"CB\", \"RCB\", \"RB\", \"Release Clause\"\n",
    "]\n",
    "\n",
    "try:\n",
    "    fifa.drop(columns_to_drop, axis=1, inplace=True)\n",
    "except KeyError:\n",
    "    logger.warning(f\"Columns already dropped\")"
   ]
  },
  {
   "cell_type": "markdown",
   "metadata": {},
   "source": [
    "## Quick review on dataset proprieties\n",
    "Steps:\n",
    "* data describe\n",
    "* Missing data \n",
    "* Standardization"
   ]
  },
  {
   "cell_type": "code",
   "execution_count": 5,
   "metadata": {},
   "outputs": [
    {
     "output_type": "execute_result",
     "data": {
      "text/plain": "   Age  Overall  Potential  Crossing  Finishing  HeadingAccuracy  \\\n0   31       94         94      84.0       95.0             70.0   \n1   33       94         94      84.0       94.0             89.0   \n2   26       92         93      79.0       87.0             62.0   \n3   27       91         93      17.0       13.0             21.0   \n4   27       91         92      93.0       82.0             55.0   \n\n   ShortPassing  Volleys  Dribbling  Curve  ...  Penalties  Composure  \\\n0          90.0     86.0       97.0   93.0  ...       75.0       96.0   \n1          81.0     87.0       88.0   81.0  ...       85.0       95.0   \n2          84.0     84.0       96.0   88.0  ...       81.0       94.0   \n3          50.0     13.0       18.0   21.0  ...       40.0       68.0   \n4          92.0     82.0       86.0   85.0  ...       79.0       88.0   \n\n   Marking  StandingTackle  SlidingTackle  GKDiving  GKHandling  GKKicking  \\\n0     33.0            28.0           26.0       6.0        11.0       15.0   \n1     28.0            31.0           23.0       7.0        11.0       15.0   \n2     27.0            24.0           33.0       9.0         9.0       15.0   \n3     15.0            21.0           13.0      90.0        85.0       87.0   \n4     68.0            58.0           51.0      15.0        13.0        5.0   \n\n   GKPositioning  GKReflexes  \n0           14.0         8.0  \n1           14.0        11.0  \n2           15.0        11.0  \n3           88.0        94.0  \n4           10.0        13.0  \n\n[5 rows x 37 columns]",
      "text/html": "<div>\n<style scoped>\n    .dataframe tbody tr th:only-of-type {\n        vertical-align: middle;\n    }\n\n    .dataframe tbody tr th {\n        vertical-align: top;\n    }\n\n    .dataframe thead th {\n        text-align: right;\n    }\n</style>\n<table border=\"1\" class=\"dataframe\">\n  <thead>\n    <tr style=\"text-align: right;\">\n      <th></th>\n      <th>Age</th>\n      <th>Overall</th>\n      <th>Potential</th>\n      <th>Crossing</th>\n      <th>Finishing</th>\n      <th>HeadingAccuracy</th>\n      <th>ShortPassing</th>\n      <th>Volleys</th>\n      <th>Dribbling</th>\n      <th>Curve</th>\n      <th>...</th>\n      <th>Penalties</th>\n      <th>Composure</th>\n      <th>Marking</th>\n      <th>StandingTackle</th>\n      <th>SlidingTackle</th>\n      <th>GKDiving</th>\n      <th>GKHandling</th>\n      <th>GKKicking</th>\n      <th>GKPositioning</th>\n      <th>GKReflexes</th>\n    </tr>\n  </thead>\n  <tbody>\n    <tr>\n      <th>0</th>\n      <td>31</td>\n      <td>94</td>\n      <td>94</td>\n      <td>84.0</td>\n      <td>95.0</td>\n      <td>70.0</td>\n      <td>90.0</td>\n      <td>86.0</td>\n      <td>97.0</td>\n      <td>93.0</td>\n      <td>...</td>\n      <td>75.0</td>\n      <td>96.0</td>\n      <td>33.0</td>\n      <td>28.0</td>\n      <td>26.0</td>\n      <td>6.0</td>\n      <td>11.0</td>\n      <td>15.0</td>\n      <td>14.0</td>\n      <td>8.0</td>\n    </tr>\n    <tr>\n      <th>1</th>\n      <td>33</td>\n      <td>94</td>\n      <td>94</td>\n      <td>84.0</td>\n      <td>94.0</td>\n      <td>89.0</td>\n      <td>81.0</td>\n      <td>87.0</td>\n      <td>88.0</td>\n      <td>81.0</td>\n      <td>...</td>\n      <td>85.0</td>\n      <td>95.0</td>\n      <td>28.0</td>\n      <td>31.0</td>\n      <td>23.0</td>\n      <td>7.0</td>\n      <td>11.0</td>\n      <td>15.0</td>\n      <td>14.0</td>\n      <td>11.0</td>\n    </tr>\n    <tr>\n      <th>2</th>\n      <td>26</td>\n      <td>92</td>\n      <td>93</td>\n      <td>79.0</td>\n      <td>87.0</td>\n      <td>62.0</td>\n      <td>84.0</td>\n      <td>84.0</td>\n      <td>96.0</td>\n      <td>88.0</td>\n      <td>...</td>\n      <td>81.0</td>\n      <td>94.0</td>\n      <td>27.0</td>\n      <td>24.0</td>\n      <td>33.0</td>\n      <td>9.0</td>\n      <td>9.0</td>\n      <td>15.0</td>\n      <td>15.0</td>\n      <td>11.0</td>\n    </tr>\n    <tr>\n      <th>3</th>\n      <td>27</td>\n      <td>91</td>\n      <td>93</td>\n      <td>17.0</td>\n      <td>13.0</td>\n      <td>21.0</td>\n      <td>50.0</td>\n      <td>13.0</td>\n      <td>18.0</td>\n      <td>21.0</td>\n      <td>...</td>\n      <td>40.0</td>\n      <td>68.0</td>\n      <td>15.0</td>\n      <td>21.0</td>\n      <td>13.0</td>\n      <td>90.0</td>\n      <td>85.0</td>\n      <td>87.0</td>\n      <td>88.0</td>\n      <td>94.0</td>\n    </tr>\n    <tr>\n      <th>4</th>\n      <td>27</td>\n      <td>91</td>\n      <td>92</td>\n      <td>93.0</td>\n      <td>82.0</td>\n      <td>55.0</td>\n      <td>92.0</td>\n      <td>82.0</td>\n      <td>86.0</td>\n      <td>85.0</td>\n      <td>...</td>\n      <td>79.0</td>\n      <td>88.0</td>\n      <td>68.0</td>\n      <td>58.0</td>\n      <td>51.0</td>\n      <td>15.0</td>\n      <td>13.0</td>\n      <td>5.0</td>\n      <td>10.0</td>\n      <td>13.0</td>\n    </tr>\n  </tbody>\n</table>\n<p>5 rows × 37 columns</p>\n</div>"
     },
     "metadata": {},
     "execution_count": 5
    }
   ],
   "source": [
    "fifa.head()"
   ]
  },
  {
   "cell_type": "code",
   "execution_count": 6,
   "metadata": {},
   "outputs": [
    {
     "output_type": "execute_result",
     "data": {
      "text/plain": "                Age       Overall     Potential      Crossing     Finishing  \\\ncount  18207.000000  18207.000000  18207.000000  18159.000000  18159.000000   \nmean      25.122206     66.238699     71.307299     49.734181     45.550911   \nstd        4.669943      6.908930      6.136496     18.364524     19.525820   \nmin       16.000000     46.000000     48.000000      5.000000      2.000000   \n25%       21.000000     62.000000     67.000000     38.000000     30.000000   \n50%       25.000000     66.000000     71.000000     54.000000     49.000000   \n75%       28.000000     71.000000     75.000000     64.000000     62.000000   \nmax       45.000000     94.000000     95.000000     93.000000     95.000000   \n\n       HeadingAccuracy  ShortPassing       Volleys     Dribbling  \\\ncount     18159.000000  18159.000000  18159.000000  18159.000000   \nmean         52.298144     58.686712     42.909026     55.371001   \nstd          17.379909     14.699495     17.694408     18.910371   \nmin           4.000000      7.000000      4.000000      4.000000   \n25%          44.000000     54.000000     30.000000     49.000000   \n50%          56.000000     62.000000     44.000000     61.000000   \n75%          64.000000     68.000000     57.000000     68.000000   \nmax          94.000000     93.000000     90.000000     97.000000   \n\n              Curve  ...     Penalties     Composure       Marking  \\\ncount  18159.000000  ...  18159.000000  18159.000000  18159.000000   \nmean      47.170824  ...     48.548598     58.648274     47.281623   \nstd       18.395264  ...     15.704053     11.436133     19.904397   \nmin        6.000000  ...      5.000000      3.000000      3.000000   \n25%       34.000000  ...     39.000000     51.000000     30.000000   \n50%       48.000000  ...     49.000000     60.000000     53.000000   \n75%       62.000000  ...     60.000000     67.000000     64.000000   \nmax       94.000000  ...     92.000000     96.000000     94.000000   \n\n       StandingTackle  SlidingTackle      GKDiving    GKHandling  \\\ncount    18159.000000   18159.000000  18159.000000  18159.000000   \nmean        47.697836      45.661435     16.616223     16.391596   \nstd         21.664004      21.289135     17.695349     16.906900   \nmin          2.000000       3.000000      1.000000      1.000000   \n25%         27.000000      24.000000      8.000000      8.000000   \n50%         55.000000      52.000000     11.000000     11.000000   \n75%         66.000000      64.000000     14.000000     14.000000   \nmax         93.000000      91.000000     90.000000     92.000000   \n\n          GKKicking  GKPositioning    GKReflexes  \ncount  18159.000000   18159.000000  18159.000000  \nmean      16.232061      16.388898     16.710887  \nstd       16.502864      17.034669     17.955119  \nmin        1.000000       1.000000      1.000000  \n25%        8.000000       8.000000      8.000000  \n50%       11.000000      11.000000     11.000000  \n75%       14.000000      14.000000     14.000000  \nmax       91.000000      90.000000     94.000000  \n\n[8 rows x 37 columns]",
      "text/html": "<div>\n<style scoped>\n    .dataframe tbody tr th:only-of-type {\n        vertical-align: middle;\n    }\n\n    .dataframe tbody tr th {\n        vertical-align: top;\n    }\n\n    .dataframe thead th {\n        text-align: right;\n    }\n</style>\n<table border=\"1\" class=\"dataframe\">\n  <thead>\n    <tr style=\"text-align: right;\">\n      <th></th>\n      <th>Age</th>\n      <th>Overall</th>\n      <th>Potential</th>\n      <th>Crossing</th>\n      <th>Finishing</th>\n      <th>HeadingAccuracy</th>\n      <th>ShortPassing</th>\n      <th>Volleys</th>\n      <th>Dribbling</th>\n      <th>Curve</th>\n      <th>...</th>\n      <th>Penalties</th>\n      <th>Composure</th>\n      <th>Marking</th>\n      <th>StandingTackle</th>\n      <th>SlidingTackle</th>\n      <th>GKDiving</th>\n      <th>GKHandling</th>\n      <th>GKKicking</th>\n      <th>GKPositioning</th>\n      <th>GKReflexes</th>\n    </tr>\n  </thead>\n  <tbody>\n    <tr>\n      <th>count</th>\n      <td>18207.000000</td>\n      <td>18207.000000</td>\n      <td>18207.000000</td>\n      <td>18159.000000</td>\n      <td>18159.000000</td>\n      <td>18159.000000</td>\n      <td>18159.000000</td>\n      <td>18159.000000</td>\n      <td>18159.000000</td>\n      <td>18159.000000</td>\n      <td>...</td>\n      <td>18159.000000</td>\n      <td>18159.000000</td>\n      <td>18159.000000</td>\n      <td>18159.000000</td>\n      <td>18159.000000</td>\n      <td>18159.000000</td>\n      <td>18159.000000</td>\n      <td>18159.000000</td>\n      <td>18159.000000</td>\n      <td>18159.000000</td>\n    </tr>\n    <tr>\n      <th>mean</th>\n      <td>25.122206</td>\n      <td>66.238699</td>\n      <td>71.307299</td>\n      <td>49.734181</td>\n      <td>45.550911</td>\n      <td>52.298144</td>\n      <td>58.686712</td>\n      <td>42.909026</td>\n      <td>55.371001</td>\n      <td>47.170824</td>\n      <td>...</td>\n      <td>48.548598</td>\n      <td>58.648274</td>\n      <td>47.281623</td>\n      <td>47.697836</td>\n      <td>45.661435</td>\n      <td>16.616223</td>\n      <td>16.391596</td>\n      <td>16.232061</td>\n      <td>16.388898</td>\n      <td>16.710887</td>\n    </tr>\n    <tr>\n      <th>std</th>\n      <td>4.669943</td>\n      <td>6.908930</td>\n      <td>6.136496</td>\n      <td>18.364524</td>\n      <td>19.525820</td>\n      <td>17.379909</td>\n      <td>14.699495</td>\n      <td>17.694408</td>\n      <td>18.910371</td>\n      <td>18.395264</td>\n      <td>...</td>\n      <td>15.704053</td>\n      <td>11.436133</td>\n      <td>19.904397</td>\n      <td>21.664004</td>\n      <td>21.289135</td>\n      <td>17.695349</td>\n      <td>16.906900</td>\n      <td>16.502864</td>\n      <td>17.034669</td>\n      <td>17.955119</td>\n    </tr>\n    <tr>\n      <th>min</th>\n      <td>16.000000</td>\n      <td>46.000000</td>\n      <td>48.000000</td>\n      <td>5.000000</td>\n      <td>2.000000</td>\n      <td>4.000000</td>\n      <td>7.000000</td>\n      <td>4.000000</td>\n      <td>4.000000</td>\n      <td>6.000000</td>\n      <td>...</td>\n      <td>5.000000</td>\n      <td>3.000000</td>\n      <td>3.000000</td>\n      <td>2.000000</td>\n      <td>3.000000</td>\n      <td>1.000000</td>\n      <td>1.000000</td>\n      <td>1.000000</td>\n      <td>1.000000</td>\n      <td>1.000000</td>\n    </tr>\n    <tr>\n      <th>25%</th>\n      <td>21.000000</td>\n      <td>62.000000</td>\n      <td>67.000000</td>\n      <td>38.000000</td>\n      <td>30.000000</td>\n      <td>44.000000</td>\n      <td>54.000000</td>\n      <td>30.000000</td>\n      <td>49.000000</td>\n      <td>34.000000</td>\n      <td>...</td>\n      <td>39.000000</td>\n      <td>51.000000</td>\n      <td>30.000000</td>\n      <td>27.000000</td>\n      <td>24.000000</td>\n      <td>8.000000</td>\n      <td>8.000000</td>\n      <td>8.000000</td>\n      <td>8.000000</td>\n      <td>8.000000</td>\n    </tr>\n    <tr>\n      <th>50%</th>\n      <td>25.000000</td>\n      <td>66.000000</td>\n      <td>71.000000</td>\n      <td>54.000000</td>\n      <td>49.000000</td>\n      <td>56.000000</td>\n      <td>62.000000</td>\n      <td>44.000000</td>\n      <td>61.000000</td>\n      <td>48.000000</td>\n      <td>...</td>\n      <td>49.000000</td>\n      <td>60.000000</td>\n      <td>53.000000</td>\n      <td>55.000000</td>\n      <td>52.000000</td>\n      <td>11.000000</td>\n      <td>11.000000</td>\n      <td>11.000000</td>\n      <td>11.000000</td>\n      <td>11.000000</td>\n    </tr>\n    <tr>\n      <th>75%</th>\n      <td>28.000000</td>\n      <td>71.000000</td>\n      <td>75.000000</td>\n      <td>64.000000</td>\n      <td>62.000000</td>\n      <td>64.000000</td>\n      <td>68.000000</td>\n      <td>57.000000</td>\n      <td>68.000000</td>\n      <td>62.000000</td>\n      <td>...</td>\n      <td>60.000000</td>\n      <td>67.000000</td>\n      <td>64.000000</td>\n      <td>66.000000</td>\n      <td>64.000000</td>\n      <td>14.000000</td>\n      <td>14.000000</td>\n      <td>14.000000</td>\n      <td>14.000000</td>\n      <td>14.000000</td>\n    </tr>\n    <tr>\n      <th>max</th>\n      <td>45.000000</td>\n      <td>94.000000</td>\n      <td>95.000000</td>\n      <td>93.000000</td>\n      <td>95.000000</td>\n      <td>94.000000</td>\n      <td>93.000000</td>\n      <td>90.000000</td>\n      <td>97.000000</td>\n      <td>94.000000</td>\n      <td>...</td>\n      <td>92.000000</td>\n      <td>96.000000</td>\n      <td>94.000000</td>\n      <td>93.000000</td>\n      <td>91.000000</td>\n      <td>90.000000</td>\n      <td>92.000000</td>\n      <td>91.000000</td>\n      <td>90.000000</td>\n      <td>94.000000</td>\n    </tr>\n  </tbody>\n</table>\n<p>8 rows × 37 columns</p>\n</div>"
     },
     "metadata": {},
     "execution_count": 6
    }
   ],
   "source": [
    "fifa.describe()"
   ]
  },
  {
   "cell_type": "code",
   "execution_count": 7,
   "metadata": {},
   "outputs": [
    {
     "output_type": "execute_result",
     "data": {
      "text/plain": "                         columns  missing  missing %  unique\nAge                          Age        0   0.000000      29\nOverall                  Overall        0   0.000000      48\nPotential              Potential        0   0.000000      47\nCrossing                Crossing       48   1.297297      89\nFinishing              Finishing       48   1.297297      93\nHeadingAccuracy  HeadingAccuracy       48   1.297297      91\nShortPassing        ShortPassing       48   1.297297      85\nVolleys                  Volleys       48   1.297297      87\nDribbling              Dribbling       48   1.297297      94\nCurve                      Curve       48   1.297297      89\nFKAccuracy            FKAccuracy       48   1.297297      90\nLongPassing          LongPassing       48   1.297297      84\nBallControl          BallControl       48   1.297297      90\nAcceleration        Acceleration       48   1.297297      86\nSprintSpeed          SprintSpeed       48   1.297297      85\nAgility                  Agility       48   1.297297      81\nReactions              Reactions       48   1.297297      68\nBalance                  Balance       48   1.297297      81\nShotPower              ShotPower       48   1.297297      92\nJumping                  Jumping       48   1.297297      74\nStamina                  Stamina       48   1.297297      85\nStrength                Strength       48   1.297297      74\nLongShots              LongShots       48   1.297297      92\nAggression            Aggression       48   1.297297      85\nInterceptions      Interceptions       48   1.297297      89\nPositioning          Positioning       48   1.297297      94\nVision                    Vision       48   1.297297      85\nPenalties              Penalties       48   1.297297      87\nComposure              Composure       48   1.297297      84\nMarking                  Marking       48   1.297297      92\nStandingTackle    StandingTackle       48   1.297297      90\nSlidingTackle      SlidingTackle       48   1.297297      88\nGKDiving                GKDiving       48   1.297297      71\nGKHandling            GKHandling       48   1.297297      70\nGKKicking              GKKicking       48   1.297297      79\nGKPositioning      GKPositioning       48   1.297297      79\nGKReflexes            GKReflexes       48   1.297297      76",
      "text/html": "<div>\n<style scoped>\n    .dataframe tbody tr th:only-of-type {\n        vertical-align: middle;\n    }\n\n    .dataframe tbody tr th {\n        vertical-align: top;\n    }\n\n    .dataframe thead th {\n        text-align: right;\n    }\n</style>\n<table border=\"1\" class=\"dataframe\">\n  <thead>\n    <tr style=\"text-align: right;\">\n      <th></th>\n      <th>columns</th>\n      <th>missing</th>\n      <th>missing %</th>\n      <th>unique</th>\n    </tr>\n  </thead>\n  <tbody>\n    <tr>\n      <th>Age</th>\n      <td>Age</td>\n      <td>0</td>\n      <td>0.000000</td>\n      <td>29</td>\n    </tr>\n    <tr>\n      <th>Overall</th>\n      <td>Overall</td>\n      <td>0</td>\n      <td>0.000000</td>\n      <td>48</td>\n    </tr>\n    <tr>\n      <th>Potential</th>\n      <td>Potential</td>\n      <td>0</td>\n      <td>0.000000</td>\n      <td>47</td>\n    </tr>\n    <tr>\n      <th>Crossing</th>\n      <td>Crossing</td>\n      <td>48</td>\n      <td>1.297297</td>\n      <td>89</td>\n    </tr>\n    <tr>\n      <th>Finishing</th>\n      <td>Finishing</td>\n      <td>48</td>\n      <td>1.297297</td>\n      <td>93</td>\n    </tr>\n    <tr>\n      <th>HeadingAccuracy</th>\n      <td>HeadingAccuracy</td>\n      <td>48</td>\n      <td>1.297297</td>\n      <td>91</td>\n    </tr>\n    <tr>\n      <th>ShortPassing</th>\n      <td>ShortPassing</td>\n      <td>48</td>\n      <td>1.297297</td>\n      <td>85</td>\n    </tr>\n    <tr>\n      <th>Volleys</th>\n      <td>Volleys</td>\n      <td>48</td>\n      <td>1.297297</td>\n      <td>87</td>\n    </tr>\n    <tr>\n      <th>Dribbling</th>\n      <td>Dribbling</td>\n      <td>48</td>\n      <td>1.297297</td>\n      <td>94</td>\n    </tr>\n    <tr>\n      <th>Curve</th>\n      <td>Curve</td>\n      <td>48</td>\n      <td>1.297297</td>\n      <td>89</td>\n    </tr>\n    <tr>\n      <th>FKAccuracy</th>\n      <td>FKAccuracy</td>\n      <td>48</td>\n      <td>1.297297</td>\n      <td>90</td>\n    </tr>\n    <tr>\n      <th>LongPassing</th>\n      <td>LongPassing</td>\n      <td>48</td>\n      <td>1.297297</td>\n      <td>84</td>\n    </tr>\n    <tr>\n      <th>BallControl</th>\n      <td>BallControl</td>\n      <td>48</td>\n      <td>1.297297</td>\n      <td>90</td>\n    </tr>\n    <tr>\n      <th>Acceleration</th>\n      <td>Acceleration</td>\n      <td>48</td>\n      <td>1.297297</td>\n      <td>86</td>\n    </tr>\n    <tr>\n      <th>SprintSpeed</th>\n      <td>SprintSpeed</td>\n      <td>48</td>\n      <td>1.297297</td>\n      <td>85</td>\n    </tr>\n    <tr>\n      <th>Agility</th>\n      <td>Agility</td>\n      <td>48</td>\n      <td>1.297297</td>\n      <td>81</td>\n    </tr>\n    <tr>\n      <th>Reactions</th>\n      <td>Reactions</td>\n      <td>48</td>\n      <td>1.297297</td>\n      <td>68</td>\n    </tr>\n    <tr>\n      <th>Balance</th>\n      <td>Balance</td>\n      <td>48</td>\n      <td>1.297297</td>\n      <td>81</td>\n    </tr>\n    <tr>\n      <th>ShotPower</th>\n      <td>ShotPower</td>\n      <td>48</td>\n      <td>1.297297</td>\n      <td>92</td>\n    </tr>\n    <tr>\n      <th>Jumping</th>\n      <td>Jumping</td>\n      <td>48</td>\n      <td>1.297297</td>\n      <td>74</td>\n    </tr>\n    <tr>\n      <th>Stamina</th>\n      <td>Stamina</td>\n      <td>48</td>\n      <td>1.297297</td>\n      <td>85</td>\n    </tr>\n    <tr>\n      <th>Strength</th>\n      <td>Strength</td>\n      <td>48</td>\n      <td>1.297297</td>\n      <td>74</td>\n    </tr>\n    <tr>\n      <th>LongShots</th>\n      <td>LongShots</td>\n      <td>48</td>\n      <td>1.297297</td>\n      <td>92</td>\n    </tr>\n    <tr>\n      <th>Aggression</th>\n      <td>Aggression</td>\n      <td>48</td>\n      <td>1.297297</td>\n      <td>85</td>\n    </tr>\n    <tr>\n      <th>Interceptions</th>\n      <td>Interceptions</td>\n      <td>48</td>\n      <td>1.297297</td>\n      <td>89</td>\n    </tr>\n    <tr>\n      <th>Positioning</th>\n      <td>Positioning</td>\n      <td>48</td>\n      <td>1.297297</td>\n      <td>94</td>\n    </tr>\n    <tr>\n      <th>Vision</th>\n      <td>Vision</td>\n      <td>48</td>\n      <td>1.297297</td>\n      <td>85</td>\n    </tr>\n    <tr>\n      <th>Penalties</th>\n      <td>Penalties</td>\n      <td>48</td>\n      <td>1.297297</td>\n      <td>87</td>\n    </tr>\n    <tr>\n      <th>Composure</th>\n      <td>Composure</td>\n      <td>48</td>\n      <td>1.297297</td>\n      <td>84</td>\n    </tr>\n    <tr>\n      <th>Marking</th>\n      <td>Marking</td>\n      <td>48</td>\n      <td>1.297297</td>\n      <td>92</td>\n    </tr>\n    <tr>\n      <th>StandingTackle</th>\n      <td>StandingTackle</td>\n      <td>48</td>\n      <td>1.297297</td>\n      <td>90</td>\n    </tr>\n    <tr>\n      <th>SlidingTackle</th>\n      <td>SlidingTackle</td>\n      <td>48</td>\n      <td>1.297297</td>\n      <td>88</td>\n    </tr>\n    <tr>\n      <th>GKDiving</th>\n      <td>GKDiving</td>\n      <td>48</td>\n      <td>1.297297</td>\n      <td>71</td>\n    </tr>\n    <tr>\n      <th>GKHandling</th>\n      <td>GKHandling</td>\n      <td>48</td>\n      <td>1.297297</td>\n      <td>70</td>\n    </tr>\n    <tr>\n      <th>GKKicking</th>\n      <td>GKKicking</td>\n      <td>48</td>\n      <td>1.297297</td>\n      <td>79</td>\n    </tr>\n    <tr>\n      <th>GKPositioning</th>\n      <td>GKPositioning</td>\n      <td>48</td>\n      <td>1.297297</td>\n      <td>79</td>\n    </tr>\n    <tr>\n      <th>GKReflexes</th>\n      <td>GKReflexes</td>\n      <td>48</td>\n      <td>1.297297</td>\n      <td>76</td>\n    </tr>\n  </tbody>\n</table>\n</div>"
     },
     "metadata": {},
     "execution_count": 7
    }
   ],
   "source": [
    "missing = pd.DataFrame({'columns': fifa.columns,\n",
    "                        'missing': fifa.isna().sum(),\n",
    "                        'missing %': (fifa.isna().sum() / fifa.shape[1]),\n",
    "                        'unique': fifa.nunique()})\n",
    "missing"
   ]
  },
  {
   "cell_type": "code",
   "execution_count": 8,
   "metadata": {},
   "outputs": [],
   "source": [
    "# Drop nan rows\n",
    "fifa = fifa.dropna()"
   ]
  },
  {
   "cell_type": "markdown",
   "metadata": {},
   "source": [
    "## Inicia sua análise a partir daqui"
   ]
  },
  {
   "cell_type": "code",
   "execution_count": 9,
   "metadata": {},
   "outputs": [],
   "source": [
    "# Sua análise começa aqui.\n"
   ]
  },
  {
   "cell_type": "markdown",
   "metadata": {},
   "source": [
    "## Questão 1\n",
    "\n",
    "Qual fração da variância consegue ser explicada pelo primeiro componente principal de `fifa`? Responda como um único float (entre 0 e 1) arredondado para três casas decimais."
   ]
  },
  {
   "cell_type": "code",
   "execution_count": 10,
   "metadata": {},
   "outputs": [],
   "source": [
    "# Fitting data\n",
    "pca = PCA(n_components=(fifa.shape[1] -1))\n",
    "pca.fit(fifa)\n",
    "variance_ratio = pca.explained_variance_ratio_"
   ]
  },
  {
   "cell_type": "code",
   "execution_count": 11,
   "metadata": {},
   "outputs": [
    {
     "output_type": "execute_result",
     "data": {
      "text/plain": "0.565"
     },
     "metadata": {},
     "execution_count": 11
    }
   ],
   "source": [
    "def q1():\n",
    "    # Retorne aqui o resultado da questão 1.\n",
    "    return np.round(variance_ratio[0], 3 )\n",
    "q1()"
   ]
  },
  {
   "cell_type": "markdown",
   "metadata": {},
   "source": [
    "## Questão 2\n",
    "\n",
    "Quantos componentes principais precisamos para explicar 95% da variância total? Responda como un único escalar inteiro."
   ]
  },
  {
   "cell_type": "code",
   "execution_count": 12,
   "metadata": {},
   "outputs": [
    {
     "output_type": "execute_result",
     "data": {
      "text/plain": "15"
     },
     "metadata": {},
     "execution_count": 12
    }
   ],
   "source": [
    "def q2():\n",
    "    # Retorne aqui o resultado da questão 2.\n",
    "    return len(variance_ratio[np.cumsum(variance_ratio) < 0.951])\n",
    "q2()"
   ]
  },
  {
   "cell_type": "markdown",
   "metadata": {},
   "source": [
    "## Questão 3\n",
    "\n",
    "Qual são as coordenadas (primeiro e segundo componentes principais) do ponto `x` abaixo? O vetor abaixo já está centralizado. Cuidado para __não__ centralizar o vetor novamente (por exemplo, invocando `PCA.transform()` nele). Responda como uma tupla de float arredondados para três casas decimais."
   ]
  },
  {
   "cell_type": "code",
   "execution_count": 13,
   "metadata": {},
   "outputs": [],
   "source": [
    "x = [0.87747123,  -1.24990363,  -1.3191255, -36.7341814,\n",
    "     -35.55091139, -37.29814417, -28.68671182, -30.90902583,\n",
    "     -42.37100061, -32.17082438, -28.86315326, -22.71193348,\n",
    "     -38.36945867, -20.61407566, -22.72696734, -25.50360703,\n",
    "     2.16339005, -27.96657305, -33.46004736,  -5.08943224,\n",
    "     -30.21994603,   3.68803348, -36.10997302, -30.86899058,\n",
    "     -22.69827634, -37.95847789, -22.40090313, -30.54859849,\n",
    "     -26.64827358, -19.28162344, -34.69783578, -34.6614351,\n",
    "     48.38377664,  47.60840355,  45.76793876,  44.61110193,\n",
    "     49.28911284\n",
    "]"
   ]
  },
  {
   "cell_type": "code",
   "execution_count": 14,
   "metadata": {},
   "outputs": [
    {
     "output_type": "execute_result",
     "data": {
      "text/plain": "(186.556, -6.592)"
     },
     "metadata": {},
     "execution_count": 14
    }
   ],
   "source": [
    "def q3():\n",
    "    # Retorne aqui o resultado da questão 3.\n",
    "    pca_2cp = PCA(n_components=2)\n",
    "    pca_2cp.fit(fifa)\n",
    "    return tuple(np.dot(pca_2cp.components_, x).round(3))\n",
    "q3()"
   ]
  },
  {
   "cell_type": "markdown",
   "metadata": {},
   "source": [
    "## Questão 4\n",
    "\n",
    "Realiza RFE com estimador de regressão linear para selecionar cinco variáveis, eliminando uma a uma. Quais são as variáveis selecionadas? Responda como uma lista de nomes de variáveis."
   ]
  },
  {
   "cell_type": "code",
   "execution_count": 16,
   "metadata": {},
   "outputs": [
    {
     "output_type": "execute_result",
     "data": {
      "text/plain": "['Age', 'Potential', 'BallControl', 'Reactions', 'GKReflexes']"
     },
     "metadata": {},
     "execution_count": 16
    }
   ],
   "source": [
    "def q4():\n",
    "    # Retorne aqui o resultado da questão 4.\n",
    "    features, target = fifa.drop('Overall', axis='columns'), fifa['Overall']\n",
    "    linear_regression = LinearRegression()\n",
    "\n",
    "    rfe = RFE(linear_regression, n_features_to_select=5)\n",
    "    rfe.fit(features, target)\n",
    "    \n",
    "    return features.columns[rfe.support_].tolist()\n",
    "q4()"
   ]
  }
 ],
 "metadata": {
  "kernelspec": {
   "display_name": "Python 3",
   "language": "python",
   "name": "python3"
  },
  "language_info": {
   "codemirror_mode": {
    "name": "ipython",
    "version": 3
   },
   "file_extension": ".py",
   "mimetype": "text/x-python",
   "name": "python",
   "nbconvert_exporter": "python",
   "pygments_lexer": "ipython3",
   "version": "3.8.3-final"
  }
 },
 "nbformat": 4,
 "nbformat_minor": 2
}