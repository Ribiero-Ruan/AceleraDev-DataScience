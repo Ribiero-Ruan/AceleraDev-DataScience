{
 "metadata": {
  "language_info": {
   "codemirror_mode": {
    "name": "ipython",
    "version": 3
   },
   "file_extension": ".py",
   "mimetype": "text/x-python",
   "name": "python",
   "nbconvert_exporter": "python",
   "pygments_lexer": "ipython3",
   "version": "3.8.3-final"
  },
  "orig_nbformat": 2,
  "kernelspec": {
   "name": "python38364bitcodenationenvvenv82d00deee5584d669e14b3234763c141",
   "display_name": "Python 3.8.3 64-bit ('codenation_env': venv)"
  }
 },
 "nbformat": 4,
 "nbformat_minor": 2,
 "cells": [
  {
   "cell_type": "code",
   "execution_count": 166,
   "metadata": {},
   "outputs": [],
   "source": [
    "import sklearn\n",
    "import numpy as np\n",
    "import pandas as pd\n",
    "import seaborn as sns\n",
    "from matplotlib import pyplot as plt\n",
    "\n",
    "from IPython.display import display_html"
   ]
  },
  {
   "cell_type": "markdown",
   "metadata": {},
   "source": [
    "### Motivation: \n",
    ">  The probability of *x companies* be our next client"
   ]
  },
  {
   "cell_type": "code",
   "execution_count": 167,
   "metadata": {},
   "outputs": [],
   "source": [
    "# Read dataset\n",
    "pf1 = pd.read_csv(\"dataset/estaticos_portfolio1.csv\")\n",
    "pf2 = pd.read_csv(\"dataset/estaticos_portfolio2.csv\")\n",
    "pf3 = pd.read_csv(\"dataset/estaticos_portfolio3.csv\")\n",
    "market = pd.read_csv(\"dataset/estaticos_market/estaticos_market.csv\")"
   ]
  },
  {
   "cell_type": "code",
   "execution_count": 168,
   "metadata": {
    "tags": []
   },
   "outputs": [
    {
     "output_type": "stream",
     "name": "stdout",
     "text": "\n    Portfolio 1 shape (555, 182)\n    Portfolio 2 shape (566, 2)\n    Portfolio 3 shape (265, 2)\n    Mercado shape (462298, 182)\n    \n"
    }
   ],
   "source": [
    "# Check portfolios shape\n",
    "print(f\"\"\"\n",
    "    Portfolio 1 shape {pf1.shape}\n",
    "    Portfolio 2 shape {pf2.shape}\n",
    "    Portfolio 3 shape {pf3.shape}\n",
    "    Mercado shape {market.shape}\n",
    "    \"\"\")"
   ]
  },
  {
   "cell_type": "code",
   "execution_count": 169,
   "metadata": {},
   "outputs": [
    {
     "output_type": "execute_result",
     "data": {
      "text/plain": "   Unnamed: 0                                                 id  fl_matriz  \\\n0           0  dabe79bec87c88ae04e869bf6bd321ee5e1893cecf6625...       True   \n1           1  32e5f4e10932153a7ba869cb0386e7e02d49d2461046b8...      False   \n2           2  a95d6f30bba445bd3d6b0c5b36f865b38ec01d17336090...       True   \n\n    de_natureza_juridica sg_uf natureza_juridica_macro             de_ramo  \\\n0  EMPRESARIO INDIVIDUAL    PI                  OUTROS  COMERCIO VAREJISTA   \n1  EMPRESARIO INDIVIDUAL    MA                  OUTROS  COMERCIO VAREJISTA   \n2  EMPRESARIO INDIVIDUAL    MA                  OUTROS  COMERCIO VAREJISTA   \n\n      setor  idade_empresa_anos idade_emp_cat  ...  media_meses_servicos  \\\n0  COMERCIO            0.646575          <= 1  ...                   NaN   \n1  COMERCIO            6.586301        5 a 10  ...                   NaN   \n2  COMERCIO            8.010959        5 a 10  ...                   NaN   \n\n   max_meses_servicos  min_meses_servicos  qt_funcionarios  \\\n0                 NaN                 NaN              NaN   \n1                 NaN                 NaN              0.0   \n2                 NaN                 NaN              NaN   \n\n   qt_funcionarios_12meses qt_funcionarios_24meses  tx_crescimento_12meses  \\\n0                      NaN                     NaN                     NaN   \n1                      0.0                     2.0                     NaN   \n2                      NaN                     NaN                     NaN   \n\n   tx_crescimento_24meses  tx_rotatividade qt_filiais  \n0                     NaN              NaN          0  \n1                  -100.0              0.0          4  \n2                     NaN              NaN          0  \n\n[3 rows x 182 columns]",
      "text/html": "<div>\n<style scoped>\n    .dataframe tbody tr th:only-of-type {\n        vertical-align: middle;\n    }\n\n    .dataframe tbody tr th {\n        vertical-align: top;\n    }\n\n    .dataframe thead th {\n        text-align: right;\n    }\n</style>\n<table border=\"1\" class=\"dataframe\">\n  <thead>\n    <tr style=\"text-align: right;\">\n      <th></th>\n      <th>Unnamed: 0</th>\n      <th>id</th>\n      <th>fl_matriz</th>\n      <th>de_natureza_juridica</th>\n      <th>sg_uf</th>\n      <th>natureza_juridica_macro</th>\n      <th>de_ramo</th>\n      <th>setor</th>\n      <th>idade_empresa_anos</th>\n      <th>idade_emp_cat</th>\n      <th>...</th>\n      <th>media_meses_servicos</th>\n      <th>max_meses_servicos</th>\n      <th>min_meses_servicos</th>\n      <th>qt_funcionarios</th>\n      <th>qt_funcionarios_12meses</th>\n      <th>qt_funcionarios_24meses</th>\n      <th>tx_crescimento_12meses</th>\n      <th>tx_crescimento_24meses</th>\n      <th>tx_rotatividade</th>\n      <th>qt_filiais</th>\n    </tr>\n  </thead>\n  <tbody>\n    <tr>\n      <th>0</th>\n      <td>0</td>\n      <td>dabe79bec87c88ae04e869bf6bd321ee5e1893cecf6625...</td>\n      <td>True</td>\n      <td>EMPRESARIO INDIVIDUAL</td>\n      <td>PI</td>\n      <td>OUTROS</td>\n      <td>COMERCIO VAREJISTA</td>\n      <td>COMERCIO</td>\n      <td>0.646575</td>\n      <td>&lt;= 1</td>\n      <td>...</td>\n      <td>NaN</td>\n      <td>NaN</td>\n      <td>NaN</td>\n      <td>NaN</td>\n      <td>NaN</td>\n      <td>NaN</td>\n      <td>NaN</td>\n      <td>NaN</td>\n      <td>NaN</td>\n      <td>0</td>\n    </tr>\n    <tr>\n      <th>1</th>\n      <td>1</td>\n      <td>32e5f4e10932153a7ba869cb0386e7e02d49d2461046b8...</td>\n      <td>False</td>\n      <td>EMPRESARIO INDIVIDUAL</td>\n      <td>MA</td>\n      <td>OUTROS</td>\n      <td>COMERCIO VAREJISTA</td>\n      <td>COMERCIO</td>\n      <td>6.586301</td>\n      <td>5 a 10</td>\n      <td>...</td>\n      <td>NaN</td>\n      <td>NaN</td>\n      <td>NaN</td>\n      <td>0.0</td>\n      <td>0.0</td>\n      <td>2.0</td>\n      <td>NaN</td>\n      <td>-100.0</td>\n      <td>0.0</td>\n      <td>4</td>\n    </tr>\n    <tr>\n      <th>2</th>\n      <td>2</td>\n      <td>a95d6f30bba445bd3d6b0c5b36f865b38ec01d17336090...</td>\n      <td>True</td>\n      <td>EMPRESARIO INDIVIDUAL</td>\n      <td>MA</td>\n      <td>OUTROS</td>\n      <td>COMERCIO VAREJISTA</td>\n      <td>COMERCIO</td>\n      <td>8.010959</td>\n      <td>5 a 10</td>\n      <td>...</td>\n      <td>NaN</td>\n      <td>NaN</td>\n      <td>NaN</td>\n      <td>NaN</td>\n      <td>NaN</td>\n      <td>NaN</td>\n      <td>NaN</td>\n      <td>NaN</td>\n      <td>NaN</td>\n      <td>0</td>\n    </tr>\n  </tbody>\n</table>\n<p>3 rows × 182 columns</p>\n</div>"
     },
     "metadata": {},
     "execution_count": 169
    }
   ],
   "source": [
    "pf1.head(3)"
   ]
  },
  {
   "cell_type": "code",
   "execution_count": 170,
   "metadata": {},
   "outputs": [
    {
     "output_type": "display_data",
     "data": {
      "text/html": "<table style=\"display:inline\" border=\"1\" class=\"dataframe\">\n  <thead>\n    <tr style=\"text-align: right;\">\n      <th></th>\n      <th>Unnamed: 0</th>\n      <th>id</th>\n    </tr>\n  </thead>\n  <tbody>\n    <tr>\n      <th>0</th>\n      <td>0</td>\n      <td>09e95c1a84049001d086470a8f320a19b076f955a89122...</td>\n    </tr>\n    <tr>\n      <th>1</th>\n      <td>1</td>\n      <td>dc9d155f5bcd3172031e2ec9431786e8871ff4b0ff4728...</td>\n    </tr>\n    <tr>\n      <th>2</th>\n      <td>2</td>\n      <td>16843c9ffb920170477118933798510d8d5f00f5c56c12...</td>\n    </tr>\n    <tr>\n      <th>3</th>\n      <td>3</td>\n      <td>ff045934d90aab184dd15e66daf3b3c97193bda5449298...</td>\n    </tr>\n    <tr>\n      <th>4</th>\n      <td>4</td>\n      <td>a0ce528caab2c62497a548d0ebd9e935143ef81ed7dbf0...</td>\n    </tr>\n  </tbody>\n</table style=\"display:inline\"><table style=\"display:inline\" border=\"1\" class=\"dataframe\">\n  <thead>\n    <tr style=\"text-align: right;\">\n      <th></th>\n      <th>Unnamed: 0</th>\n      <th>id</th>\n    </tr>\n  </thead>\n  <tbody>\n    <tr>\n      <th>0</th>\n      <td>0</td>\n      <td>09e95c1a84049001d086470a8f320a19b076f955a89122...</td>\n    </tr>\n    <tr>\n      <th>1</th>\n      <td>1</td>\n      <td>dc9d155f5bcd3172031e2ec9431786e8871ff4b0ff4728...</td>\n    </tr>\n    <tr>\n      <th>2</th>\n      <td>2</td>\n      <td>16843c9ffb920170477118933798510d8d5f00f5c56c12...</td>\n    </tr>\n    <tr>\n      <th>3</th>\n      <td>3</td>\n      <td>ff045934d90aab184dd15e66daf3b3c97193bda5449298...</td>\n    </tr>\n    <tr>\n      <th>4</th>\n      <td>4</td>\n      <td>a0ce528caab2c62497a548d0ebd9e935143ef81ed7dbf0...</td>\n    </tr>\n  </tbody>\n</table style=\"display:inline\">"
     },
     "metadata": {}
    }
   ],
   "source": [
    "# Overiding jupyter style to plot dataframes side by side\n",
    "def display_side_by_side(*args):\n",
    "    html_str=''\n",
    "    for df in args:\n",
    "        html_str+=df.to_html()\n",
    "    display_html(html_str.replace('table','table style=\"display:inline\"'),raw=True)\n",
    "\n",
    "display_side_by_side(pf2.head(5), pf2.head(5))"
   ]
  },
  {
   "cell_type": "code",
   "execution_count": 171,
   "metadata": {},
   "outputs": [
    {
     "output_type": "execute_result",
     "data": {
      "text/plain": "   Unnamed: 0                                                 id  fl_matriz  \\\n0           0  a6984c3ae395090e3bee8ad63c3758b110de096d5d8195...       True   \n1           1  6178f41ade1365e44bc2c46654c2c8c0eaae27dcb476c4...       True   \n2           2  4a7e5069a397f12fdd7fd57111d6dc5d3ba558958efc02...       True   \n3           3  3348900fe63216a439d2e5238c79ddd46ede454df7b9d8...       True   \n4           4  1f9bcabc9d3173c1fe769899e4fac14b053037b953a1e4...       True   \n\n            de_natureza_juridica sg_uf natureza_juridica_macro  \\\n0  SOCIEDADE EMPRESARIA LIMITADA    RN  ENTIDADES EMPRESARIAIS   \n1          EMPRESARIO INDIVIDUAL    PI                  OUTROS   \n2          EMPRESARIO INDIVIDUAL    AM                  OUTROS   \n3          EMPRESARIO INDIVIDUAL    AM                  OUTROS   \n4          EMPRESARIO INDIVIDUAL    RN                  OUTROS   \n\n                                          de_ramo             setor  \\\n0                         INDUSTRIA DA CONSTRUCAO  CONSTRUÇÃO CIVIL   \n1              SERVICOS DE ALOJAMENTO/ALIMENTACAO           SERVIÇO   \n2               TRANSPORTE, ARMAZENAGEM E CORREIO           SERVIÇO   \n3                               SERVICOS DIVERSOS           SERVIÇO   \n4  SERVICOS PROFISSIONAIS, TECNICOS E CIENTIFICOS           SERVIÇO   \n\n   idade_empresa_anos idade_emp_cat  ...  media_meses_servicos  \\\n0           14.457534       10 a 15  ...             43.738462   \n1            1.463014         1 a 5  ...                   NaN   \n2            7.093151        5 a 10  ...                   NaN   \n3            6.512329        5 a 10  ...                   NaN   \n4            3.200000         1 a 5  ...                   NaN   \n\n   max_meses_servicos  min_meses_servicos  qt_funcionarios  \\\n0           93.266667           19.166667             26.0   \n1                 NaN                 NaN              NaN   \n2                 NaN                 NaN              NaN   \n3                 NaN                 NaN              NaN   \n4                 NaN                 NaN              NaN   \n\n   qt_funcionarios_12meses qt_funcionarios_24meses  tx_crescimento_12meses  \\\n0                     26.0                    27.0                     0.0   \n1                      NaN                     NaN                     NaN   \n2                      NaN                     NaN                     NaN   \n3                      NaN                     NaN                     NaN   \n4                      NaN                     NaN                     NaN   \n\n   tx_crescimento_24meses  tx_rotatividade qt_filiais  \n0               -3.703704              0.0          0  \n1                     NaN              NaN          0  \n2                     NaN              NaN          0  \n3                     NaN              NaN          0  \n4                     NaN              NaN          0  \n\n[5 rows x 182 columns]",
      "text/html": "<div>\n<style scoped>\n    .dataframe tbody tr th:only-of-type {\n        vertical-align: middle;\n    }\n\n    .dataframe tbody tr th {\n        vertical-align: top;\n    }\n\n    .dataframe thead th {\n        text-align: right;\n    }\n</style>\n<table border=\"1\" class=\"dataframe\">\n  <thead>\n    <tr style=\"text-align: right;\">\n      <th></th>\n      <th>Unnamed: 0</th>\n      <th>id</th>\n      <th>fl_matriz</th>\n      <th>de_natureza_juridica</th>\n      <th>sg_uf</th>\n      <th>natureza_juridica_macro</th>\n      <th>de_ramo</th>\n      <th>setor</th>\n      <th>idade_empresa_anos</th>\n      <th>idade_emp_cat</th>\n      <th>...</th>\n      <th>media_meses_servicos</th>\n      <th>max_meses_servicos</th>\n      <th>min_meses_servicos</th>\n      <th>qt_funcionarios</th>\n      <th>qt_funcionarios_12meses</th>\n      <th>qt_funcionarios_24meses</th>\n      <th>tx_crescimento_12meses</th>\n      <th>tx_crescimento_24meses</th>\n      <th>tx_rotatividade</th>\n      <th>qt_filiais</th>\n    </tr>\n  </thead>\n  <tbody>\n    <tr>\n      <th>0</th>\n      <td>0</td>\n      <td>a6984c3ae395090e3bee8ad63c3758b110de096d5d8195...</td>\n      <td>True</td>\n      <td>SOCIEDADE EMPRESARIA LIMITADA</td>\n      <td>RN</td>\n      <td>ENTIDADES EMPRESARIAIS</td>\n      <td>INDUSTRIA DA CONSTRUCAO</td>\n      <td>CONSTRUÇÃO CIVIL</td>\n      <td>14.457534</td>\n      <td>10 a 15</td>\n      <td>...</td>\n      <td>43.738462</td>\n      <td>93.266667</td>\n      <td>19.166667</td>\n      <td>26.0</td>\n      <td>26.0</td>\n      <td>27.0</td>\n      <td>0.0</td>\n      <td>-3.703704</td>\n      <td>0.0</td>\n      <td>0</td>\n    </tr>\n    <tr>\n      <th>1</th>\n      <td>1</td>\n      <td>6178f41ade1365e44bc2c46654c2c8c0eaae27dcb476c4...</td>\n      <td>True</td>\n      <td>EMPRESARIO INDIVIDUAL</td>\n      <td>PI</td>\n      <td>OUTROS</td>\n      <td>SERVICOS DE ALOJAMENTO/ALIMENTACAO</td>\n      <td>SERVIÇO</td>\n      <td>1.463014</td>\n      <td>1 a 5</td>\n      <td>...</td>\n      <td>NaN</td>\n      <td>NaN</td>\n      <td>NaN</td>\n      <td>NaN</td>\n      <td>NaN</td>\n      <td>NaN</td>\n      <td>NaN</td>\n      <td>NaN</td>\n      <td>NaN</td>\n      <td>0</td>\n    </tr>\n    <tr>\n      <th>2</th>\n      <td>2</td>\n      <td>4a7e5069a397f12fdd7fd57111d6dc5d3ba558958efc02...</td>\n      <td>True</td>\n      <td>EMPRESARIO INDIVIDUAL</td>\n      <td>AM</td>\n      <td>OUTROS</td>\n      <td>TRANSPORTE, ARMAZENAGEM E CORREIO</td>\n      <td>SERVIÇO</td>\n      <td>7.093151</td>\n      <td>5 a 10</td>\n      <td>...</td>\n      <td>NaN</td>\n      <td>NaN</td>\n      <td>NaN</td>\n      <td>NaN</td>\n      <td>NaN</td>\n      <td>NaN</td>\n      <td>NaN</td>\n      <td>NaN</td>\n      <td>NaN</td>\n      <td>0</td>\n    </tr>\n    <tr>\n      <th>3</th>\n      <td>3</td>\n      <td>3348900fe63216a439d2e5238c79ddd46ede454df7b9d8...</td>\n      <td>True</td>\n      <td>EMPRESARIO INDIVIDUAL</td>\n      <td>AM</td>\n      <td>OUTROS</td>\n      <td>SERVICOS DIVERSOS</td>\n      <td>SERVIÇO</td>\n      <td>6.512329</td>\n      <td>5 a 10</td>\n      <td>...</td>\n      <td>NaN</td>\n      <td>NaN</td>\n      <td>NaN</td>\n      <td>NaN</td>\n      <td>NaN</td>\n      <td>NaN</td>\n      <td>NaN</td>\n      <td>NaN</td>\n      <td>NaN</td>\n      <td>0</td>\n    </tr>\n    <tr>\n      <th>4</th>\n      <td>4</td>\n      <td>1f9bcabc9d3173c1fe769899e4fac14b053037b953a1e4...</td>\n      <td>True</td>\n      <td>EMPRESARIO INDIVIDUAL</td>\n      <td>RN</td>\n      <td>OUTROS</td>\n      <td>SERVICOS PROFISSIONAIS, TECNICOS E CIENTIFICOS</td>\n      <td>SERVIÇO</td>\n      <td>3.200000</td>\n      <td>1 a 5</td>\n      <td>...</td>\n      <td>NaN</td>\n      <td>NaN</td>\n      <td>NaN</td>\n      <td>NaN</td>\n      <td>NaN</td>\n      <td>NaN</td>\n      <td>NaN</td>\n      <td>NaN</td>\n      <td>NaN</td>\n      <td>0</td>\n    </tr>\n  </tbody>\n</table>\n<p>5 rows × 182 columns</p>\n</div>"
     },
     "metadata": {},
     "execution_count": 171
    }
   ],
   "source": [
    "market.head(5)"
   ]
  },
  {
   "cell_type": "code",
   "execution_count": 172,
   "metadata": {},
   "outputs": [
    {
     "output_type": "execute_result",
     "data": {
      "text/plain": "True"
     },
     "metadata": {},
     "execution_count": 172
    }
   ],
   "source": [
    "# Check if portfolio 1 have same columns\n",
    "(market.columns == pf1.columns).all()"
   ]
  },
  {
   "cell_type": "markdown",
   "metadata": {},
   "source": [
    "# Handle missing data\n",
    "Let's find out how messy are our datasets"
   ]
  },
  {
   "cell_type": "code",
   "execution_count": 173,
   "metadata": {},
   "outputs": [],
   "source": [
    "# Function to check missing data\n",
    "def missing_data(dataframe):\n",
    "    missing = pd.DataFrame({'dtype': dataframe.dtypes,\n",
    "                            'unique vals': dataframe.nunique(),\n",
    "                            'missing%': (dataframe.isna().sum() / dataframe.shape[0]) * 100})\n",
    "    # Get columns with missing% greater than 0\n",
    "    missing = missing[missing['missing%'] > 0]\n",
    "\n",
    "    # Columns name with missing% greater than 60%\n",
    "    cols_missing_60 = list(missing[missing['missing%'] > 60].index)\n",
    "    \n",
    "    return missing, cols_missing_60\n",
    "\n",
    "# Function to drop columns\n",
    "def drop_columns(dataframe, columns_list):\n",
    "    dataframe = dataframe.drop(columns_list, axis='columns')\n",
    "    return dataframe"
   ]
  },
  {
   "cell_type": "code",
   "execution_count": 174,
   "metadata": {
    "tags": []
   },
   "outputs": [],
   "source": [
    "# Dataframe with missing info\n",
    "pf1_missing, pf1_cols60 = missing_data(pf1)\n",
    "pf2_missing, pf2_cols60= missing_data(pf2)\n",
    "pf3_missing, pf3_cols60 = missing_data(pf3)\n",
    "market_missing, market_cols60 = missing_data(market)"
   ]
  },
  {
   "cell_type": "code",
   "execution_count": 175,
   "metadata": {},
   "outputs": [
    {
     "output_type": "display_data",
     "data": {
      "text/html": "<table style=\"display:inline\" border=\"1\" class=\"dataframe\">\n  <thead>\n    <tr style=\"text-align: right;\">\n      <th></th>\n      <th>dtype</th>\n      <th>unique vals</th>\n      <th>missing%</th>\n    </tr>\n  </thead>\n  <tbody>\n  </tbody>\n</table style=\"display:inline\"><table style=\"display:inline\" border=\"1\" class=\"dataframe\">\n  <thead>\n    <tr style=\"text-align: right;\">\n      <th></th>\n      <th>dtype</th>\n      <th>unique vals</th>\n      <th>missing%</th>\n    </tr>\n  </thead>\n  <tbody>\n  </tbody>\n</table style=\"display:inline\">"
     },
     "metadata": {}
    }
   ],
   "source": [
    "# Check missing data in Portfolio 2 and Portfolio 3\n",
    "display_side_by_side(\n",
    "        pf2_missing.sort_values(by='missing%', ascending=False), \n",
    "        pf3_missing.sort_values(by='missing%', ascending=False)\n",
    ")"
   ]
  },
  {
   "cell_type": "code",
   "execution_count": 176,
   "metadata": {},
   "outputs": [
    {
     "output_type": "display_data",
     "data": {
      "text/html": "<table style=\"display:inline\" border=\"1\" class=\"dataframe\">\n  <thead>\n    <tr style=\"text-align: right;\">\n      <th></th>\n      <th>dtype</th>\n      <th>unique vals</th>\n      <th>missing%</th>\n    </tr>\n  </thead>\n  <tbody>\n    <tr>\n      <th>vl_total_tancagem</th>\n      <td>float64</td>\n      <td>0</td>\n      <td>100.000000</td>\n    </tr>\n    <tr>\n      <th>vl_total_veiculos_antt_grupo</th>\n      <td>float64</td>\n      <td>0</td>\n      <td>100.000000</td>\n    </tr>\n    <tr>\n      <th>qt_alteracao_socio_180d</th>\n      <td>float64</td>\n      <td>0</td>\n      <td>100.000000</td>\n    </tr>\n    <tr>\n      <th>qt_alteracao_socio_365d</th>\n      <td>float64</td>\n      <td>0</td>\n      <td>100.000000</td>\n    </tr>\n    <tr>\n      <th>qt_alteracao_socio_total</th>\n      <td>float64</td>\n      <td>0</td>\n      <td>100.000000</td>\n    </tr>\n    <tr>\n      <th>coligada_mais_nova_baixada</th>\n      <td>float64</td>\n      <td>0</td>\n      <td>100.000000</td>\n    </tr>\n    <tr>\n      <th>qt_alteracao_socio_90d</th>\n      <td>float64</td>\n      <td>0</td>\n      <td>100.000000</td>\n    </tr>\n    <tr>\n      <th>vl_total_tancagem_grupo</th>\n      <td>float64</td>\n      <td>0</td>\n      <td>100.000000</td>\n    </tr>\n    <tr>\n      <th>coligada_mais_antiga_baixada</th>\n      <td>float64</td>\n      <td>0</td>\n      <td>100.000000</td>\n    </tr>\n    <tr>\n      <th>grau_instrucao_macro_desconhecido</th>\n      <td>float64</td>\n      <td>0</td>\n      <td>100.000000</td>\n    </tr>\n    <tr>\n      <th>idade_media_coligadas_baixadas</th>\n      <td>float64</td>\n      <td>0</td>\n      <td>100.000000</td>\n    </tr>\n    <tr>\n      <th>vl_total_veiculos_antt</th>\n      <td>float64</td>\n      <td>0</td>\n      <td>100.000000</td>\n    </tr>\n    <tr>\n      <th>grau_instrucao_macro_analfabeto</th>\n      <td>float64</td>\n      <td>1</td>\n      <td>99.819820</td>\n    </tr>\n    <tr>\n      <th>vl_idade_minima_socios_pj</th>\n      <td>float64</td>\n      <td>2</td>\n      <td>99.639640</td>\n    </tr>\n    <tr>\n      <th>vl_idade_media_socios_pj</th>\n      <td>float64</td>\n      <td>2</td>\n      <td>99.639640</td>\n    </tr>\n    <tr>\n      <th>qt_socios_pj_suspensos</th>\n      <td>float64</td>\n      <td>1</td>\n      <td>99.639640</td>\n    </tr>\n    <tr>\n      <th>qt_socios_pj_baixados</th>\n      <td>float64</td>\n      <td>1</td>\n      <td>99.639640</td>\n    </tr>\n    <tr>\n      <th>qt_socios_pj_nulos</th>\n      <td>float64</td>\n      <td>1</td>\n      <td>99.639640</td>\n    </tr>\n    <tr>\n      <th>qt_socios_pj_ativos</th>\n      <td>float64</td>\n      <td>2</td>\n      <td>99.639640</td>\n    </tr>\n    <tr>\n      <th>vl_idade_maxima_socios_pj</th>\n      <td>float64</td>\n      <td>2</td>\n      <td>99.639640</td>\n    </tr>\n    <tr>\n      <th>qt_socios_pj_inaptos</th>\n      <td>float64</td>\n      <td>1</td>\n      <td>99.639640</td>\n    </tr>\n    <tr>\n      <th>vl_potenc_cons_oleo_gas</th>\n      <td>float64</td>\n      <td>3</td>\n      <td>99.459459</td>\n    </tr>\n    <tr>\n      <th>qt_art</th>\n      <td>float64</td>\n      <td>3</td>\n      <td>99.279279</td>\n    </tr>\n    <tr>\n      <th>idade_ate_18</th>\n      <td>float64</td>\n      <td>1</td>\n      <td>99.279279</td>\n    </tr>\n    <tr>\n      <th>qt_socios_pep</th>\n      <td>float64</td>\n      <td>2</td>\n      <td>99.279279</td>\n    </tr>\n    <tr>\n      <th>qt_socios_st_suspensa</th>\n      <td>float64</td>\n      <td>1</td>\n      <td>98.738739</td>\n    </tr>\n    <tr>\n      <th>idade_de_54_a_58</th>\n      <td>float64</td>\n      <td>2</td>\n      <td>97.477477</td>\n    </tr>\n    <tr>\n      <th>total_filiais_coligados</th>\n      <td>float64</td>\n      <td>11</td>\n      <td>97.297297</td>\n    </tr>\n    <tr>\n      <th>max_filiais_coligados</th>\n      <td>float64</td>\n      <td>9</td>\n      <td>97.297297</td>\n    </tr>\n    <tr>\n      <th>idade_acima_de_58</th>\n      <td>float64</td>\n      <td>3</td>\n      <td>97.297297</td>\n    </tr>\n    <tr>\n      <th>media_filiais_coligados</th>\n      <td>float64</td>\n      <td>10</td>\n      <td>97.297297</td>\n    </tr>\n    <tr>\n      <th>min_filiais_coligados</th>\n      <td>float64</td>\n      <td>8</td>\n      <td>97.297297</td>\n    </tr>\n    <tr>\n      <th>idade_de_44_a_48</th>\n      <td>float64</td>\n      <td>4</td>\n      <td>96.216216</td>\n    </tr>\n    <tr>\n      <th>idade_de_49_a_53</th>\n      <td>float64</td>\n      <td>4</td>\n      <td>96.036036</td>\n    </tr>\n    <tr>\n      <th>grau_instrucao_macro_escolaridade_superior</th>\n      <td>float64</td>\n      <td>4</td>\n      <td>95.855856</td>\n    </tr>\n    <tr>\n      <th>grau_instrucao_macro_escolaridade_fundamental</th>\n      <td>float64</td>\n      <td>7</td>\n      <td>95.495495</td>\n    </tr>\n    <tr>\n      <th>vl_frota</th>\n      <td>float64</td>\n      <td>31</td>\n      <td>94.414414</td>\n    </tr>\n    <tr>\n      <th>idade_de_39_a_43</th>\n      <td>float64</td>\n      <td>8</td>\n      <td>94.234234</td>\n    </tr>\n    <tr>\n      <th>idade_de_19_a_23</th>\n      <td>float64</td>\n      <td>6</td>\n      <td>94.054054</td>\n    </tr>\n    <tr>\n      <th>min_vl_folha_coligados</th>\n      <td>float64</td>\n      <td>20</td>\n      <td>93.333333</td>\n    </tr>\n    <tr>\n      <th>vl_folha_coligados_gp</th>\n      <td>float64</td>\n      <td>27</td>\n      <td>93.333333</td>\n    </tr>\n    <tr>\n      <th>media_vl_folha_coligados_gp</th>\n      <td>float64</td>\n      <td>27</td>\n      <td>93.333333</td>\n    </tr>\n    <tr>\n      <th>max_vl_folha_coligados_gp</th>\n      <td>float64</td>\n      <td>25</td>\n      <td>93.333333</td>\n    </tr>\n    <tr>\n      <th>min_vl_folha_coligados_gp</th>\n      <td>float64</td>\n      <td>21</td>\n      <td>93.333333</td>\n    </tr>\n    <tr>\n      <th>vl_folha_coligados</th>\n      <td>float64</td>\n      <td>27</td>\n      <td>93.333333</td>\n    </tr>\n    <tr>\n      <th>max_vl_folha_coligados</th>\n      <td>float64</td>\n      <td>25</td>\n      <td>93.333333</td>\n    </tr>\n    <tr>\n      <th>media_vl_folha_coligados</th>\n      <td>float64</td>\n      <td>27</td>\n      <td>93.333333</td>\n    </tr>\n    <tr>\n      <th>vl_total_veiculos_leves</th>\n      <td>float64</td>\n      <td>5</td>\n      <td>93.153153</td>\n    </tr>\n    <tr>\n      <th>vl_total_veiculos_pesados</th>\n      <td>float64</td>\n      <td>5</td>\n      <td>93.153153</td>\n    </tr>\n    <tr>\n      <th>idade_de_34_a_38</th>\n      <td>float64</td>\n      <td>7</td>\n      <td>92.432432</td>\n    </tr>\n    <tr>\n      <th>idade_de_29_a_33</th>\n      <td>float64</td>\n      <td>9</td>\n      <td>92.252252</td>\n    </tr>\n    <tr>\n      <th>min_funcionarios_coligados_gp</th>\n      <td>float64</td>\n      <td>16</td>\n      <td>91.711712</td>\n    </tr>\n    <tr>\n      <th>max_funcionarios_coligados_gp</th>\n      <td>float64</td>\n      <td>22</td>\n      <td>91.711712</td>\n    </tr>\n    <tr>\n      <th>media_funcionarios_coligados_gp</th>\n      <td>float64</td>\n      <td>24</td>\n      <td>91.711712</td>\n    </tr>\n    <tr>\n      <th>qt_funcionarios_coligados_gp</th>\n      <td>float64</td>\n      <td>23</td>\n      <td>91.711712</td>\n    </tr>\n    <tr>\n      <th>idade_de_24_a_28</th>\n      <td>float64</td>\n      <td>8</td>\n      <td>91.711712</td>\n    </tr>\n    <tr>\n      <th>qt_funcionarios_coligados</th>\n      <td>float64</td>\n      <td>24</td>\n      <td>91.711712</td>\n    </tr>\n    <tr>\n      <th>sum_faturamento_estimado_coligadas</th>\n      <td>float64</td>\n      <td>31</td>\n      <td>91.171171</td>\n    </tr>\n    <tr>\n      <th>qt_coligadas</th>\n      <td>float64</td>\n      <td>7</td>\n      <td>90.990991</td>\n    </tr>\n    <tr>\n      <th>de_indicador_telefone</th>\n      <td>object</td>\n      <td>1</td>\n      <td>90.270270</td>\n    </tr>\n    <tr>\n      <th>idade_media_coligadas_ativas</th>\n      <td>float64</td>\n      <td>61</td>\n      <td>88.828829</td>\n    </tr>\n    <tr>\n      <th>media_faturamento_est_coligados_gp</th>\n      <td>float64</td>\n      <td>39</td>\n      <td>88.828829</td>\n    </tr>\n    <tr>\n      <th>coligada_mais_antiga_ativa</th>\n      <td>float64</td>\n      <td>61</td>\n      <td>88.828829</td>\n    </tr>\n    <tr>\n      <th>max_faturamento_est_coligados_gp</th>\n      <td>float64</td>\n      <td>34</td>\n      <td>88.828829</td>\n    </tr>\n    <tr>\n      <th>min_faturamento_est_coligados_gp</th>\n      <td>float64</td>\n      <td>22</td>\n      <td>88.828829</td>\n    </tr>\n    <tr>\n      <th>faturamento_est_coligados_gp</th>\n      <td>float64</td>\n      <td>42</td>\n      <td>88.828829</td>\n    </tr>\n    <tr>\n      <th>coligada_mais_nova_ativa</th>\n      <td>float64</td>\n      <td>61</td>\n      <td>88.828829</td>\n    </tr>\n    <tr>\n      <th>faturamento_est_coligados</th>\n      <td>float64</td>\n      <td>41</td>\n      <td>88.828829</td>\n    </tr>\n    <tr>\n      <th>media_faturamento_est_coligados</th>\n      <td>float64</td>\n      <td>36</td>\n      <td>88.828829</td>\n    </tr>\n    <tr>\n      <th>max_faturamento_est_coligados</th>\n      <td>float64</td>\n      <td>29</td>\n      <td>88.828829</td>\n    </tr>\n    <tr>\n      <th>min_faturamento_est_coligados</th>\n      <td>float64</td>\n      <td>21</td>\n      <td>88.828829</td>\n    </tr>\n    <tr>\n      <th>qt_coligados_atividade_medio</th>\n      <td>float64</td>\n      <td>1</td>\n      <td>88.648649</td>\n    </tr>\n    <tr>\n      <th>qt_coligados_atividade_baixo</th>\n      <td>float64</td>\n      <td>1</td>\n      <td>88.648649</td>\n    </tr>\n    <tr>\n      <th>qt_coligados_ccivil</th>\n      <td>float64</td>\n      <td>3</td>\n      <td>88.648649</td>\n    </tr>\n    <tr>\n      <th>qt_coligados_atividade_mt_baixo</th>\n      <td>float64</td>\n      <td>1</td>\n      <td>88.648649</td>\n    </tr>\n    <tr>\n      <th>qt_coligados_atividade_inativo</th>\n      <td>float64</td>\n      <td>1</td>\n      <td>88.648649</td>\n    </tr>\n    <tr>\n      <th>qt_coligados_atividade_alto</th>\n      <td>float64</td>\n      <td>1</td>\n      <td>88.648649</td>\n    </tr>\n    <tr>\n      <th>qt_coligados_comercio</th>\n      <td>float64</td>\n      <td>10</td>\n      <td>88.648649</td>\n    </tr>\n    <tr>\n      <th>qt_coligados_serviço</th>\n      <td>float64</td>\n      <td>6</td>\n      <td>88.648649</td>\n    </tr>\n    <tr>\n      <th>qt_coligados_me</th>\n      <td>float64</td>\n      <td>1</td>\n      <td>88.648649</td>\n    </tr>\n    <tr>\n      <th>qt_coligados_agropecuaria</th>\n      <td>float64</td>\n      <td>2</td>\n      <td>88.648649</td>\n    </tr>\n    <tr>\n      <th>qt_coligados</th>\n      <td>float64</td>\n      <td>10</td>\n      <td>88.648649</td>\n    </tr>\n    <tr>\n      <th>qt_socios_coligados</th>\n      <td>float64</td>\n      <td>12</td>\n      <td>88.648649</td>\n    </tr>\n    <tr>\n      <th>qt_coligados_matriz</th>\n      <td>float64</td>\n      <td>10</td>\n      <td>88.648649</td>\n    </tr>\n    <tr>\n      <th>qt_coligados_baixada</th>\n      <td>float64</td>\n      <td>1</td>\n      <td>88.648649</td>\n    </tr>\n    <tr>\n      <th>qt_coligados_inapta</th>\n      <td>float64</td>\n      <td>2</td>\n      <td>88.648649</td>\n    </tr>\n    <tr>\n      <th>qt_coligados_suspensa</th>\n      <td>float64</td>\n      <td>1</td>\n      <td>88.648649</td>\n    </tr>\n    <tr>\n      <th>qt_coligados_nula</th>\n      <td>float64</td>\n      <td>1</td>\n      <td>88.648649</td>\n    </tr>\n    <tr>\n      <th>idade_media_coligadas</th>\n      <td>float64</td>\n      <td>62</td>\n      <td>88.648649</td>\n    </tr>\n    <tr>\n      <th>idade_maxima_coligadas</th>\n      <td>float64</td>\n      <td>62</td>\n      <td>88.648649</td>\n    </tr>\n    <tr>\n      <th>idade_minima_coligadas</th>\n      <td>float64</td>\n      <td>62</td>\n      <td>88.648649</td>\n    </tr>\n    <tr>\n      <th>qt_coligados_sa</th>\n      <td>float64</td>\n      <td>2</td>\n      <td>88.648649</td>\n    </tr>\n    <tr>\n      <th>qt_coligados_ativo</th>\n      <td>float64</td>\n      <td>12</td>\n      <td>88.648649</td>\n    </tr>\n    <tr>\n      <th>qt_coligados_mei</th>\n      <td>float64</td>\n      <td>1</td>\n      <td>88.648649</td>\n    </tr>\n    <tr>\n      <th>qt_coligados_sudeste</th>\n      <td>float64</td>\n      <td>4</td>\n      <td>88.648649</td>\n    </tr>\n    <tr>\n      <th>qt_coligados_ltda</th>\n      <td>float64</td>\n      <td>2</td>\n      <td>88.648649</td>\n    </tr>\n    <tr>\n      <th>qt_ramos_coligados</th>\n      <td>float64</td>\n      <td>7</td>\n      <td>88.648649</td>\n    </tr>\n    <tr>\n      <th>qt_regioes_coligados</th>\n      <td>float64</td>\n      <td>3</td>\n      <td>88.648649</td>\n    </tr>\n    <tr>\n      <th>qt_ufs_coligados</th>\n      <td>float64</td>\n      <td>5</td>\n      <td>88.648649</td>\n    </tr>\n    <tr>\n      <th>qt_coligados_exterior</th>\n      <td>float64</td>\n      <td>1</td>\n      <td>88.648649</td>\n    </tr>\n    <tr>\n      <th>qt_coligados_industria</th>\n      <td>float64</td>\n      <td>3</td>\n      <td>88.648649</td>\n    </tr>\n    <tr>\n      <th>qt_coligados_centro</th>\n      <td>float64</td>\n      <td>2</td>\n      <td>88.648649</td>\n    </tr>\n    <tr>\n      <th>qt_coligados_nordeste</th>\n      <td>float64</td>\n      <td>11</td>\n      <td>88.648649</td>\n    </tr>\n    <tr>\n      <th>qt_coligados_sul</th>\n      <td>float64</td>\n      <td>1</td>\n      <td>88.648649</td>\n    </tr>\n    <tr>\n      <th>qt_coligados_norte</th>\n      <td>float64</td>\n      <td>7</td>\n      <td>88.648649</td>\n    </tr>\n    <tr>\n      <th>qt_coligados_epp</th>\n      <td>float64</td>\n      <td>1</td>\n      <td>88.648649</td>\n    </tr>\n    <tr>\n      <th>grau_instrucao_macro_escolaridade_media</th>\n      <td>float64</td>\n      <td>17</td>\n      <td>84.504505</td>\n    </tr>\n    <tr>\n      <th>tx_crescimento_24meses</th>\n      <td>float64</td>\n      <td>30</td>\n      <td>83.603604</td>\n    </tr>\n    <tr>\n      <th>tx_crescimento_12meses</th>\n      <td>float64</td>\n      <td>25</td>\n      <td>82.522523</td>\n    </tr>\n    <tr>\n      <th>media_meses_servicos</th>\n      <td>float64</td>\n      <td>96</td>\n      <td>81.801802</td>\n    </tr>\n    <tr>\n      <th>percent_func_genero_fem</th>\n      <td>float64</td>\n      <td>30</td>\n      <td>81.801802</td>\n    </tr>\n    <tr>\n      <th>percent_func_genero_masc</th>\n      <td>float64</td>\n      <td>30</td>\n      <td>81.801802</td>\n    </tr>\n    <tr>\n      <th>total</th>\n      <td>float64</td>\n      <td>20</td>\n      <td>81.801802</td>\n    </tr>\n    <tr>\n      <th>max_meses_servicos</th>\n      <td>float64</td>\n      <td>86</td>\n      <td>81.801802</td>\n    </tr>\n    <tr>\n      <th>min_meses_servicos</th>\n      <td>float64</td>\n      <td>78</td>\n      <td>81.801802</td>\n    </tr>\n    <tr>\n      <th>min_meses_servicos_all</th>\n      <td>float64</td>\n      <td>100</td>\n      <td>76.396396</td>\n    </tr>\n    <tr>\n      <th>qt_funcionarios</th>\n      <td>float64</td>\n      <td>21</td>\n      <td>76.396396</td>\n    </tr>\n    <tr>\n      <th>qt_funcionarios_24meses</th>\n      <td>float64</td>\n      <td>23</td>\n      <td>76.396396</td>\n    </tr>\n    <tr>\n      <th>max_meses_servicos_all</th>\n      <td>float64</td>\n      <td>119</td>\n      <td>76.396396</td>\n    </tr>\n    <tr>\n      <th>media_meses_servicos_all</th>\n      <td>float64</td>\n      <td>130</td>\n      <td>76.396396</td>\n    </tr>\n    <tr>\n      <th>qt_admitidos</th>\n      <td>float64</td>\n      <td>40</td>\n      <td>76.396396</td>\n    </tr>\n    <tr>\n      <th>qt_desligados</th>\n      <td>float64</td>\n      <td>34</td>\n      <td>76.396396</td>\n    </tr>\n    <tr>\n      <th>qt_desligados_12meses</th>\n      <td>float64</td>\n      <td>11</td>\n      <td>76.396396</td>\n    </tr>\n    <tr>\n      <th>qt_admitidos_12meses</th>\n      <td>float64</td>\n      <td>11</td>\n      <td>76.396396</td>\n    </tr>\n    <tr>\n      <th>meses_ultima_contratacaco</th>\n      <td>float64</td>\n      <td>102</td>\n      <td>76.396396</td>\n    </tr>\n    <tr>\n      <th>qt_funcionarios_12meses</th>\n      <td>float64</td>\n      <td>22</td>\n      <td>76.396396</td>\n    </tr>\n    <tr>\n      <th>tx_rotatividade</th>\n      <td>float64</td>\n      <td>26</td>\n      <td>76.396396</td>\n    </tr>\n    <tr>\n      <th>qt_ex_funcionarios</th>\n      <td>float64</td>\n      <td>34</td>\n      <td>73.693694</td>\n    </tr>\n    <tr>\n      <th>qt_funcionarios_grupo</th>\n      <td>float64</td>\n      <td>33</td>\n      <td>73.693694</td>\n    </tr>\n    <tr>\n      <th>qt_socios_feminino</th>\n      <td>float64</td>\n      <td>2</td>\n      <td>65.765766</td>\n    </tr>\n    <tr>\n      <th>qt_socios_masculino</th>\n      <td>float64</td>\n      <td>4</td>\n      <td>64.324324</td>\n    </tr>\n    <tr>\n      <th>qt_socios_st_regular</th>\n      <td>float64</td>\n      <td>5</td>\n      <td>35.135135</td>\n    </tr>\n    <tr>\n      <th>idade_maxima_socios</th>\n      <td>float64</td>\n      <td>62</td>\n      <td>34.774775</td>\n    </tr>\n    <tr>\n      <th>idade_minima_socios</th>\n      <td>float64</td>\n      <td>59</td>\n      <td>34.774775</td>\n    </tr>\n    <tr>\n      <th>idade_media_socios</th>\n      <td>float64</td>\n      <td>80</td>\n      <td>34.774775</td>\n    </tr>\n    <tr>\n      <th>empsetorcensitariofaixarendapopulacao</th>\n      <td>float64</td>\n      <td>391</td>\n      <td>27.027027</td>\n    </tr>\n    <tr>\n      <th>qt_socios</th>\n      <td>float64</td>\n      <td>6</td>\n      <td>26.486486</td>\n    </tr>\n    <tr>\n      <th>qt_socios_pf</th>\n      <td>float64</td>\n      <td>6</td>\n      <td>26.486486</td>\n    </tr>\n    <tr>\n      <th>qt_socios_pj</th>\n      <td>float64</td>\n      <td>3</td>\n      <td>26.486486</td>\n    </tr>\n    <tr>\n      <th>fl_optante_simples</th>\n      <td>object</td>\n      <td>2</td>\n      <td>18.198198</td>\n    </tr>\n    <tr>\n      <th>fl_optante_simei</th>\n      <td>object</td>\n      <td>2</td>\n      <td>18.198198</td>\n    </tr>\n    <tr>\n      <th>nm_micro_regiao</th>\n      <td>object</td>\n      <td>66</td>\n      <td>11.531532</td>\n    </tr>\n    <tr>\n      <th>nm_meso_regiao</th>\n      <td>object</td>\n      <td>19</td>\n      <td>11.531532</td>\n    </tr>\n    <tr>\n      <th>nu_meses_rescencia</th>\n      <td>float64</td>\n      <td>23</td>\n      <td>8.468468</td>\n    </tr>\n    <tr>\n      <th>vl_faturamento_estimado_grupo_aux</th>\n      <td>float64</td>\n      <td>66</td>\n      <td>4.504505</td>\n    </tr>\n    <tr>\n      <th>vl_faturamento_estimado_aux</th>\n      <td>float64</td>\n      <td>41</td>\n      <td>4.504505</td>\n    </tr>\n    <tr>\n      <th>de_faixa_faturamento_estimado_grupo</th>\n      <td>object</td>\n      <td>9</td>\n      <td>4.504505</td>\n    </tr>\n    <tr>\n      <th>de_faixa_faturamento_estimado</th>\n      <td>object</td>\n      <td>7</td>\n      <td>4.504505</td>\n    </tr>\n    <tr>\n      <th>de_saude_rescencia</th>\n      <td>object</td>\n      <td>3</td>\n      <td>1.981982</td>\n    </tr>\n    <tr>\n      <th>de_saude_tributaria</th>\n      <td>object</td>\n      <td>6</td>\n      <td>1.981982</td>\n    </tr>\n    <tr>\n      <th>de_nivel_atividade</th>\n      <td>object</td>\n      <td>4</td>\n      <td>0.720721</td>\n    </tr>\n  </tbody>\n</table style=\"display:inline\"><table style=\"display:inline\" border=\"1\" class=\"dataframe\">\n  <thead>\n    <tr style=\"text-align: right;\">\n      <th></th>\n      <th>dtype</th>\n      <th>unique vals</th>\n      <th>missing%</th>\n    </tr>\n  </thead>\n  <tbody>\n    <tr>\n      <th>qt_alteracao_socio_365d</th>\n      <td>float64</td>\n      <td>0</td>\n      <td>100.000000</td>\n    </tr>\n    <tr>\n      <th>qt_alteracao_socio_90d</th>\n      <td>float64</td>\n      <td>0</td>\n      <td>100.000000</td>\n    </tr>\n    <tr>\n      <th>qt_alteracao_socio_total</th>\n      <td>float64</td>\n      <td>0</td>\n      <td>100.000000</td>\n    </tr>\n    <tr>\n      <th>grau_instrucao_macro_desconhecido</th>\n      <td>float64</td>\n      <td>0</td>\n      <td>100.000000</td>\n    </tr>\n    <tr>\n      <th>qt_alteracao_socio_180d</th>\n      <td>float64</td>\n      <td>0</td>\n      <td>100.000000</td>\n    </tr>\n    <tr>\n      <th>idade_media_coligadas_baixadas</th>\n      <td>float64</td>\n      <td>48</td>\n      <td>99.970582</td>\n    </tr>\n    <tr>\n      <th>coligada_mais_antiga_baixada</th>\n      <td>float64</td>\n      <td>46</td>\n      <td>99.970582</td>\n    </tr>\n    <tr>\n      <th>coligada_mais_nova_baixada</th>\n      <td>float64</td>\n      <td>46</td>\n      <td>99.970582</td>\n    </tr>\n    <tr>\n      <th>vl_total_veiculos_antt</th>\n      <td>float64</td>\n      <td>20</td>\n      <td>99.961929</td>\n    </tr>\n    <tr>\n      <th>vl_total_tancagem</th>\n      <td>float64</td>\n      <td>33</td>\n      <td>99.939433</td>\n    </tr>\n    <tr>\n      <th>vl_total_veiculos_antt_grupo</th>\n      <td>float64</td>\n      <td>31</td>\n      <td>99.927320</td>\n    </tr>\n    <tr>\n      <th>vl_total_tancagem_grupo</th>\n      <td>float64</td>\n      <td>106</td>\n      <td>99.619293</td>\n    </tr>\n    <tr>\n      <th>grau_instrucao_macro_analfabeto</th>\n      <td>float64</td>\n      <td>34</td>\n      <td>99.592471</td>\n    </tr>\n    <tr>\n      <th>idade_ate_18</th>\n      <td>float64</td>\n      <td>33</td>\n      <td>99.371401</td>\n    </tr>\n    <tr>\n      <th>qt_socios_st_suspensa</th>\n      <td>float64</td>\n      <td>4</td>\n      <td>99.296774</td>\n    </tr>\n    <tr>\n      <th>vl_potenc_cons_oleo_gas</th>\n      <td>float64</td>\n      <td>155</td>\n      <td>99.203328</td>\n    </tr>\n    <tr>\n      <th>qt_socios_pj_baixados</th>\n      <td>float64</td>\n      <td>3</td>\n      <td>99.017084</td>\n    </tr>\n    <tr>\n      <th>qt_socios_pj_suspensos</th>\n      <td>float64</td>\n      <td>3</td>\n      <td>99.017084</td>\n    </tr>\n    <tr>\n      <th>qt_socios_pj_nulos</th>\n      <td>float64</td>\n      <td>2</td>\n      <td>99.017084</td>\n    </tr>\n    <tr>\n      <th>qt_socios_pj_ativos</th>\n      <td>float64</td>\n      <td>11</td>\n      <td>99.017084</td>\n    </tr>\n    <tr>\n      <th>qt_socios_pj_inaptos</th>\n      <td>float64</td>\n      <td>5</td>\n      <td>99.017084</td>\n    </tr>\n    <tr>\n      <th>vl_idade_media_socios_pj</th>\n      <td>float64</td>\n      <td>2192</td>\n      <td>99.017084</td>\n    </tr>\n    <tr>\n      <th>vl_idade_maxima_socios_pj</th>\n      <td>float64</td>\n      <td>1944</td>\n      <td>99.017084</td>\n    </tr>\n    <tr>\n      <th>vl_idade_minima_socios_pj</th>\n      <td>float64</td>\n      <td>1952</td>\n      <td>99.017084</td>\n    </tr>\n    <tr>\n      <th>qt_art</th>\n      <td>float64</td>\n      <td>120</td>\n      <td>98.574513</td>\n    </tr>\n    <tr>\n      <th>qt_socios_pep</th>\n      <td>float64</td>\n      <td>31</td>\n      <td>98.541417</td>\n    </tr>\n    <tr>\n      <th>idade_acima_de_58</th>\n      <td>float64</td>\n      <td>176</td>\n      <td>97.614958</td>\n    </tr>\n    <tr>\n      <th>idade_de_54_a_58</th>\n      <td>float64</td>\n      <td>164</td>\n      <td>96.977058</td>\n    </tr>\n    <tr>\n      <th>idade_de_49_a_53</th>\n      <td>float64</td>\n      <td>191</td>\n      <td>95.882093</td>\n    </tr>\n    <tr>\n      <th>total_filiais_coligados</th>\n      <td>float64</td>\n      <td>368</td>\n      <td>95.587262</td>\n    </tr>\n    <tr>\n      <th>media_filiais_coligados</th>\n      <td>float64</td>\n      <td>755</td>\n      <td>95.587262</td>\n    </tr>\n    <tr>\n      <th>max_filiais_coligados</th>\n      <td>float64</td>\n      <td>180</td>\n      <td>95.587262</td>\n    </tr>\n    <tr>\n      <th>min_filiais_coligados</th>\n      <td>float64</td>\n      <td>80</td>\n      <td>95.587262</td>\n    </tr>\n    <tr>\n      <th>grau_instrucao_macro_escolaridade_superior</th>\n      <td>float64</td>\n      <td>346</td>\n      <td>95.083907</td>\n    </tr>\n    <tr>\n      <th>vl_frota</th>\n      <td>float64</td>\n      <td>13833</td>\n      <td>94.767444</td>\n    </tr>\n    <tr>\n      <th>idade_de_44_a_48</th>\n      <td>float64</td>\n      <td>209</td>\n      <td>94.745813</td>\n    </tr>\n    <tr>\n      <th>grau_instrucao_macro_escolaridade_fundamental</th>\n      <td>float64</td>\n      <td>281</td>\n      <td>94.614729</td>\n    </tr>\n    <tr>\n      <th>idade_de_19_a_23</th>\n      <td>float64</td>\n      <td>133</td>\n      <td>94.399716</td>\n    </tr>\n    <tr>\n      <th>idade_de_39_a_43</th>\n      <td>float64</td>\n      <td>243</td>\n      <td>93.422424</td>\n    </tr>\n    <tr>\n      <th>vl_total_veiculos_leves</th>\n      <td>float64</td>\n      <td>121</td>\n      <td>93.362723</td>\n    </tr>\n    <tr>\n      <th>vl_total_veiculos_pesados</th>\n      <td>float64</td>\n      <td>103</td>\n      <td>93.362723</td>\n    </tr>\n    <tr>\n      <th>min_vl_folha_coligados</th>\n      <td>float64</td>\n      <td>704</td>\n      <td>92.144894</td>\n    </tr>\n    <tr>\n      <th>max_vl_folha_coligados</th>\n      <td>float64</td>\n      <td>1565</td>\n      <td>92.144894</td>\n    </tr>\n    <tr>\n      <th>media_vl_folha_coligados</th>\n      <td>float64</td>\n      <td>7528</td>\n      <td>92.144894</td>\n    </tr>\n    <tr>\n      <th>vl_folha_coligados</th>\n      <td>float64</td>\n      <td>6680</td>\n      <td>92.144894</td>\n    </tr>\n    <tr>\n      <th>vl_folha_coligados_gp</th>\n      <td>float64</td>\n      <td>7219</td>\n      <td>92.096656</td>\n    </tr>\n    <tr>\n      <th>media_vl_folha_coligados_gp</th>\n      <td>float64</td>\n      <td>7913</td>\n      <td>92.096656</td>\n    </tr>\n    <tr>\n      <th>max_vl_folha_coligados_gp</th>\n      <td>float64</td>\n      <td>1898</td>\n      <td>92.096656</td>\n    </tr>\n    <tr>\n      <th>min_vl_folha_coligados_gp</th>\n      <td>float64</td>\n      <td>811</td>\n      <td>92.096656</td>\n    </tr>\n    <tr>\n      <th>idade_de_34_a_38</th>\n      <td>float64</td>\n      <td>258</td>\n      <td>92.055125</td>\n    </tr>\n    <tr>\n      <th>idade_de_24_a_28</th>\n      <td>float64</td>\n      <td>186</td>\n      <td>91.586596</td>\n    </tr>\n    <tr>\n      <th>idade_de_29_a_33</th>\n      <td>float64</td>\n      <td>240</td>\n      <td>91.316640</td>\n    </tr>\n    <tr>\n      <th>qt_funcionarios_coligados_gp</th>\n      <td>float64</td>\n      <td>1917</td>\n      <td>90.849409</td>\n    </tr>\n    <tr>\n      <th>min_funcionarios_coligados_gp</th>\n      <td>float64</td>\n      <td>393</td>\n      <td>90.849409</td>\n    </tr>\n    <tr>\n      <th>max_funcionarios_coligados_gp</th>\n      <td>float64</td>\n      <td>1116</td>\n      <td>90.849409</td>\n    </tr>\n    <tr>\n      <th>media_funcionarios_coligados_gp</th>\n      <td>float64</td>\n      <td>3388</td>\n      <td>90.849409</td>\n    </tr>\n    <tr>\n      <th>qt_funcionarios_coligados</th>\n      <td>float64</td>\n      <td>1453</td>\n      <td>90.849409</td>\n    </tr>\n    <tr>\n      <th>de_indicador_telefone</th>\n      <td>object</td>\n      <td>2</td>\n      <td>90.505475</td>\n    </tr>\n    <tr>\n      <th>sum_faturamento_estimado_coligadas</th>\n      <td>float64</td>\n      <td>8828</td>\n      <td>89.283103</td>\n    </tr>\n    <tr>\n      <th>qt_coligadas</th>\n      <td>float64</td>\n      <td>116</td>\n      <td>89.134498</td>\n    </tr>\n    <tr>\n      <th>media_faturamento_est_coligados</th>\n      <td>float64</td>\n      <td>12108</td>\n      <td>86.042985</td>\n    </tr>\n    <tr>\n      <th>faturamento_est_coligados_gp</th>\n      <td>float64</td>\n      <td>13144</td>\n      <td>86.042985</td>\n    </tr>\n    <tr>\n      <th>media_faturamento_est_coligados_gp</th>\n      <td>float64</td>\n      <td>13919</td>\n      <td>86.042985</td>\n    </tr>\n    <tr>\n      <th>max_faturamento_est_coligados_gp</th>\n      <td>float64</td>\n      <td>4343</td>\n      <td>86.042985</td>\n    </tr>\n    <tr>\n      <th>min_faturamento_est_coligados_gp</th>\n      <td>float64</td>\n      <td>1341</td>\n      <td>86.042985</td>\n    </tr>\n    <tr>\n      <th>max_faturamento_est_coligados</th>\n      <td>float64</td>\n      <td>2296</td>\n      <td>86.042985</td>\n    </tr>\n    <tr>\n      <th>faturamento_est_coligados</th>\n      <td>float64</td>\n      <td>11621</td>\n      <td>86.042985</td>\n    </tr>\n    <tr>\n      <th>min_faturamento_est_coligados</th>\n      <td>float64</td>\n      <td>722</td>\n      <td>86.042985</td>\n    </tr>\n    <tr>\n      <th>coligada_mais_antiga_ativa</th>\n      <td>float64</td>\n      <td>10749</td>\n      <td>85.908007</td>\n    </tr>\n    <tr>\n      <th>idade_media_coligadas_ativas</th>\n      <td>float64</td>\n      <td>27923</td>\n      <td>85.908007</td>\n    </tr>\n    <tr>\n      <th>coligada_mais_nova_ativa</th>\n      <td>float64</td>\n      <td>8583</td>\n      <td>85.908007</td>\n    </tr>\n    <tr>\n      <th>qt_coligados_ccivil</th>\n      <td>float64</td>\n      <td>105</td>\n      <td>85.855228</td>\n    </tr>\n    <tr>\n      <th>qt_coligados_serviço</th>\n      <td>float64</td>\n      <td>110</td>\n      <td>85.855228</td>\n    </tr>\n    <tr>\n      <th>qt_coligados_comercio</th>\n      <td>float64</td>\n      <td>56</td>\n      <td>85.855228</td>\n    </tr>\n    <tr>\n      <th>qt_coligados_agropecuaria</th>\n      <td>float64</td>\n      <td>21</td>\n      <td>85.855228</td>\n    </tr>\n    <tr>\n      <th>qt_coligados_exterior</th>\n      <td>float64</td>\n      <td>6</td>\n      <td>85.855228</td>\n    </tr>\n    <tr>\n      <th>qt_ramos_coligados</th>\n      <td>float64</td>\n      <td>45</td>\n      <td>85.855228</td>\n    </tr>\n    <tr>\n      <th>qt_coligados_atividade_alto</th>\n      <td>float64</td>\n      <td>1</td>\n      <td>85.855228</td>\n    </tr>\n    <tr>\n      <th>qt_coligados_atividade_medio</th>\n      <td>float64</td>\n      <td>1</td>\n      <td>85.855228</td>\n    </tr>\n    <tr>\n      <th>qt_coligados_atividade_baixo</th>\n      <td>float64</td>\n      <td>1</td>\n      <td>85.855228</td>\n    </tr>\n    <tr>\n      <th>qt_coligados_atividade_mt_baixo</th>\n      <td>float64</td>\n      <td>1</td>\n      <td>85.855228</td>\n    </tr>\n    <tr>\n      <th>qt_coligados_atividade_inativo</th>\n      <td>float64</td>\n      <td>1</td>\n      <td>85.855228</td>\n    </tr>\n    <tr>\n      <th>qt_coligados_industria</th>\n      <td>float64</td>\n      <td>57</td>\n      <td>85.855228</td>\n    </tr>\n    <tr>\n      <th>idade_maxima_coligadas</th>\n      <td>float64</td>\n      <td>10760</td>\n      <td>85.855228</td>\n    </tr>\n    <tr>\n      <th>qt_regioes_coligados</th>\n      <td>float64</td>\n      <td>7</td>\n      <td>85.855228</td>\n    </tr>\n    <tr>\n      <th>idade_minima_coligadas</th>\n      <td>float64</td>\n      <td>8584</td>\n      <td>85.855228</td>\n    </tr>\n    <tr>\n      <th>qt_coligados</th>\n      <td>float64</td>\n      <td>168</td>\n      <td>85.855228</td>\n    </tr>\n    <tr>\n      <th>qt_ufs_coligados</th>\n      <td>float64</td>\n      <td>26</td>\n      <td>85.855228</td>\n    </tr>\n    <tr>\n      <th>qt_coligados_matriz</th>\n      <td>float64</td>\n      <td>169</td>\n      <td>85.855228</td>\n    </tr>\n    <tr>\n      <th>qt_coligados_ativo</th>\n      <td>float64</td>\n      <td>171</td>\n      <td>85.855228</td>\n    </tr>\n    <tr>\n      <th>qt_coligados_baixada</th>\n      <td>float64</td>\n      <td>6</td>\n      <td>85.855228</td>\n    </tr>\n    <tr>\n      <th>qt_coligados_inapta</th>\n      <td>float64</td>\n      <td>12</td>\n      <td>85.855228</td>\n    </tr>\n    <tr>\n      <th>qt_coligados_suspensa</th>\n      <td>float64</td>\n      <td>2</td>\n      <td>85.855228</td>\n    </tr>\n    <tr>\n      <th>qt_coligados_nula</th>\n      <td>float64</td>\n      <td>1</td>\n      <td>85.855228</td>\n    </tr>\n    <tr>\n      <th>idade_media_coligadas</th>\n      <td>float64</td>\n      <td>28060</td>\n      <td>85.855228</td>\n    </tr>\n    <tr>\n      <th>qt_socios_coligados</th>\n      <td>float64</td>\n      <td>273</td>\n      <td>85.855228</td>\n    </tr>\n    <tr>\n      <th>qt_coligados_sa</th>\n      <td>float64</td>\n      <td>65</td>\n      <td>85.855228</td>\n    </tr>\n    <tr>\n      <th>qt_coligados_me</th>\n      <td>float64</td>\n      <td>6</td>\n      <td>85.855228</td>\n    </tr>\n    <tr>\n      <th>qt_coligados_mei</th>\n      <td>float64</td>\n      <td>6</td>\n      <td>85.855228</td>\n    </tr>\n    <tr>\n      <th>qt_coligados_ltda</th>\n      <td>float64</td>\n      <td>21</td>\n      <td>85.855228</td>\n    </tr>\n    <tr>\n      <th>qt_coligados_epp</th>\n      <td>float64</td>\n      <td>5</td>\n      <td>85.855228</td>\n    </tr>\n    <tr>\n      <th>qt_coligados_norte</th>\n      <td>float64</td>\n      <td>55</td>\n      <td>85.855228</td>\n    </tr>\n    <tr>\n      <th>qt_coligados_sul</th>\n      <td>float64</td>\n      <td>38</td>\n      <td>85.855228</td>\n    </tr>\n    <tr>\n      <th>qt_coligados_nordeste</th>\n      <td>float64</td>\n      <td>80</td>\n      <td>85.855228</td>\n    </tr>\n    <tr>\n      <th>qt_coligados_centro</th>\n      <td>float64</td>\n      <td>42</td>\n      <td>85.855228</td>\n    </tr>\n    <tr>\n      <th>qt_coligados_sudeste</th>\n      <td>float64</td>\n      <td>146</td>\n      <td>85.855228</td>\n    </tr>\n    <tr>\n      <th>grau_instrucao_macro_escolaridade_media</th>\n      <td>float64</td>\n      <td>513</td>\n      <td>85.334784</td>\n    </tr>\n    <tr>\n      <th>tx_crescimento_12meses</th>\n      <td>float64</td>\n      <td>2237</td>\n      <td>84.017236</td>\n    </tr>\n    <tr>\n      <th>tx_crescimento_24meses</th>\n      <td>float64</td>\n      <td>3388</td>\n      <td>83.989980</td>\n    </tr>\n    <tr>\n      <th>percent_func_genero_masc</th>\n      <td>float64</td>\n      <td>2391</td>\n      <td>83.572933</td>\n    </tr>\n    <tr>\n      <th>percent_func_genero_fem</th>\n      <td>float64</td>\n      <td>2391</td>\n      <td>83.572933</td>\n    </tr>\n    <tr>\n      <th>total</th>\n      <td>float64</td>\n      <td>709</td>\n      <td>83.572933</td>\n    </tr>\n    <tr>\n      <th>media_meses_servicos</th>\n      <td>float64</td>\n      <td>37029</td>\n      <td>83.503930</td>\n    </tr>\n    <tr>\n      <th>max_meses_servicos</th>\n      <td>float64</td>\n      <td>5484</td>\n      <td>83.503930</td>\n    </tr>\n    <tr>\n      <th>min_meses_servicos</th>\n      <td>float64</td>\n      <td>3003</td>\n      <td>83.503930</td>\n    </tr>\n    <tr>\n      <th>media_meses_servicos_all</th>\n      <td>float64</td>\n      <td>61515</td>\n      <td>77.598865</td>\n    </tr>\n    <tr>\n      <th>max_meses_servicos_all</th>\n      <td>float64</td>\n      <td>7194</td>\n      <td>77.598865</td>\n    </tr>\n    <tr>\n      <th>min_meses_servicos_all</th>\n      <td>float64</td>\n      <td>3015</td>\n      <td>77.598865</td>\n    </tr>\n    <tr>\n      <th>qt_admitidos_12meses</th>\n      <td>float64</td>\n      <td>258</td>\n      <td>77.595836</td>\n    </tr>\n    <tr>\n      <th>qt_desligados</th>\n      <td>float64</td>\n      <td>1082</td>\n      <td>77.595836</td>\n    </tr>\n    <tr>\n      <th>qt_admitidos</th>\n      <td>float64</td>\n      <td>1332</td>\n      <td>77.595836</td>\n    </tr>\n    <tr>\n      <th>qt_funcionarios</th>\n      <td>float64</td>\n      <td>712</td>\n      <td>77.595836</td>\n    </tr>\n    <tr>\n      <th>qt_funcionarios_12meses</th>\n      <td>float64</td>\n      <td>713</td>\n      <td>77.595836</td>\n    </tr>\n    <tr>\n      <th>qt_funcionarios_24meses</th>\n      <td>float64</td>\n      <td>762</td>\n      <td>77.595836</td>\n    </tr>\n    <tr>\n      <th>meses_ultima_contratacaco</th>\n      <td>float64</td>\n      <td>3657</td>\n      <td>77.595836</td>\n    </tr>\n    <tr>\n      <th>qt_desligados_12meses</th>\n      <td>float64</td>\n      <td>227</td>\n      <td>77.595836</td>\n    </tr>\n    <tr>\n      <th>tx_rotatividade</th>\n      <td>float64</td>\n      <td>2548</td>\n      <td>77.595836</td>\n    </tr>\n    <tr>\n      <th>qt_ex_funcionarios</th>\n      <td>float64</td>\n      <td>1092</td>\n      <td>75.069328</td>\n    </tr>\n    <tr>\n      <th>qt_funcionarios_grupo</th>\n      <td>float64</td>\n      <td>1456</td>\n      <td>75.067381</td>\n    </tr>\n    <tr>\n      <th>qt_socios_feminino</th>\n      <td>float64</td>\n      <td>33</td>\n      <td>68.628677</td>\n    </tr>\n    <tr>\n      <th>qt_socios_masculino</th>\n      <td>float64</td>\n      <td>41</td>\n      <td>57.794539</td>\n    </tr>\n    <tr>\n      <th>qt_socios_st_regular</th>\n      <td>float64</td>\n      <td>54</td>\n      <td>33.510203</td>\n    </tr>\n    <tr>\n      <th>idade_minima_socios</th>\n      <td>float64</td>\n      <td>114</td>\n      <td>32.793133</td>\n    </tr>\n    <tr>\n      <th>idade_maxima_socios</th>\n      <td>float64</td>\n      <td>118</td>\n      <td>32.793133</td>\n    </tr>\n    <tr>\n      <th>idade_media_socios</th>\n      <td>float64</td>\n      <td>1010</td>\n      <td>32.793133</td>\n    </tr>\n    <tr>\n      <th>empsetorcensitariofaixarendapopulacao</th>\n      <td>float64</td>\n      <td>15419</td>\n      <td>31.111750</td>\n    </tr>\n    <tr>\n      <th>qt_socios</th>\n      <td>float64</td>\n      <td>62</td>\n      <td>24.895414</td>\n    </tr>\n    <tr>\n      <th>qt_socios_pj</th>\n      <td>float64</td>\n      <td>12</td>\n      <td>24.895414</td>\n    </tr>\n    <tr>\n      <th>qt_socios_pf</th>\n      <td>float64</td>\n      <td>64</td>\n      <td>24.895414</td>\n    </tr>\n    <tr>\n      <th>fl_optante_simples</th>\n      <td>object</td>\n      <td>2</td>\n      <td>17.891706</td>\n    </tr>\n    <tr>\n      <th>fl_optante_simei</th>\n      <td>object</td>\n      <td>2</td>\n      <td>17.891706</td>\n    </tr>\n    <tr>\n      <th>nm_micro_regiao</th>\n      <td>object</td>\n      <td>73</td>\n      <td>12.697005</td>\n    </tr>\n    <tr>\n      <th>nm_meso_regiao</th>\n      <td>object</td>\n      <td>19</td>\n      <td>12.697005</td>\n    </tr>\n    <tr>\n      <th>nu_meses_rescencia</th>\n      <td>float64</td>\n      <td>51</td>\n      <td>9.793683</td>\n    </tr>\n    <tr>\n      <th>vl_faturamento_estimado_aux</th>\n      <td>float64</td>\n      <td>1920</td>\n      <td>5.951356</td>\n    </tr>\n    <tr>\n      <th>de_faixa_faturamento_estimado</th>\n      <td>object</td>\n      <td>12</td>\n      <td>5.951356</td>\n    </tr>\n    <tr>\n      <th>de_faixa_faturamento_estimado_grupo</th>\n      <td>object</td>\n      <td>11</td>\n      <td>5.951356</td>\n    </tr>\n    <tr>\n      <th>vl_faturamento_estimado_grupo_aux</th>\n      <td>float64</td>\n      <td>6794</td>\n      <td>5.951356</td>\n    </tr>\n    <tr>\n      <th>de_saude_rescencia</th>\n      <td>object</td>\n      <td>5</td>\n      <td>3.212430</td>\n    </tr>\n    <tr>\n      <th>de_saude_tributaria</th>\n      <td>object</td>\n      <td>6</td>\n      <td>3.212430</td>\n    </tr>\n    <tr>\n      <th>de_nivel_atividade</th>\n      <td>object</td>\n      <td>4</td>\n      <td>2.415758</td>\n    </tr>\n    <tr>\n      <th>sg_uf_matriz</th>\n      <td>object</td>\n      <td>27</td>\n      <td>0.419426</td>\n    </tr>\n    <tr>\n      <th>fl_veiculo</th>\n      <td>object</td>\n      <td>2</td>\n      <td>0.416831</td>\n    </tr>\n    <tr>\n      <th>nm_divisao</th>\n      <td>object</td>\n      <td>87</td>\n      <td>0.416831</td>\n    </tr>\n    <tr>\n      <th>nm_segmento</th>\n      <td>object</td>\n      <td>21</td>\n      <td>0.416831</td>\n    </tr>\n    <tr>\n      <th>fl_spa</th>\n      <td>object</td>\n      <td>2</td>\n      <td>0.416831</td>\n    </tr>\n    <tr>\n      <th>fl_antt</th>\n      <td>object</td>\n      <td>2</td>\n      <td>0.416831</td>\n    </tr>\n    <tr>\n      <th>fl_passivel_iss</th>\n      <td>object</td>\n      <td>2</td>\n      <td>0.416831</td>\n    </tr>\n    <tr>\n      <th>vl_total_veiculos_pesados_grupo</th>\n      <td>float64</td>\n      <td>296</td>\n      <td>0.416831</td>\n    </tr>\n    <tr>\n      <th>vl_total_veiculos_leves_grupo</th>\n      <td>float64</td>\n      <td>310</td>\n      <td>0.416831</td>\n    </tr>\n    <tr>\n      <th>fl_simples_irregular</th>\n      <td>object</td>\n      <td>2</td>\n      <td>0.416831</td>\n    </tr>\n    <tr>\n      <th>setor</th>\n      <td>object</td>\n      <td>5</td>\n      <td>0.416831</td>\n    </tr>\n    <tr>\n      <th>dt_situacao</th>\n      <td>object</td>\n      <td>7334</td>\n      <td>0.001298</td>\n    </tr>\n  </tbody>\n</table style=\"display:inline\">"
     },
     "metadata": {}
    }
   ],
   "source": [
    "# Check missing data in Portfolio 1 and Market\n",
    "display_side_by_side(\n",
    "        pf1_missing.sort_values(by='missing%', ascending=False), \n",
    "        market_missing.sort_values(by='missing%', ascending=False)\n",
    ")"
   ]
  },
  {
   "cell_type": "code",
   "execution_count": 177,
   "metadata": {
    "tags": []
   },
   "outputs": [
    {
     "output_type": "stream",
     "name": "stdout",
     "text": "Missing Portfolio 1 shape (151, 3), and Missing Market shape (163, 3)\n"
    }
   ],
   "source": [
    "# Amount of features with missing data > 0 \n",
    "print(f\"Missing Portfolio 1 shape {pf1_missing.shape}, and Missing Market shape {market_missing.shape}\")"
   ]
  },
  {
   "cell_type": "markdown",
   "metadata": {},
   "source": [
    "Both Portfolio and Market missing dataframes shows that we have diiferent amount of missing data on features. However, both have columns with empty info.\n",
    "\n",
    "Features with more than 30% of missing data doesn't add much value. However, I will drop features with missing data greater than 60%. After it, I will look closely to features and evaluate if they aggregate meaning to model."
   ]
  },
  {
   "cell_type": "code",
   "execution_count": 178,
   "metadata": {
    "tags": []
   },
   "outputs": [
    {
     "output_type": "stream",
     "name": "stdout",
     "text": "\n    pf1 cols with 0 to 60% of missing data: 51, \n    market cols 0 to 60% of missing data: 52\n    \n"
    }
   ],
   "source": [
    "# Drop columns with missing data greater than 60%\n",
    "pf1 = pf1.drop(pf1_cols60, axis='columns')\n",
    "market = market.drop(market_cols60, axis='columns')\n",
    "\n",
    "# Check amount of columns in each dataframe\n",
    "print(f\"\"\"\n",
    "    pf1 cols with 0 to 60% of missing data: {pf1.shape[1]}, \n",
    "    market cols 0 to 60% of missing data: {market.shape[1]}\n",
    "    \"\"\")"
   ]
  },
  {
   "cell_type": "code",
   "execution_count": 179,
   "metadata": {},
   "outputs": [
    {
     "output_type": "display_data",
     "data": {
      "text/html": "<table style=\"display:inline\" border=\"1\" class=\"dataframe\">\n  <thead>\n    <tr style=\"text-align: right;\">\n      <th></th>\n      <th>dtype</th>\n      <th>unique vals</th>\n      <th>missing%</th>\n    </tr>\n  </thead>\n  <tbody>\n    <tr>\n      <th>qt_socios_st_regular</th>\n      <td>float64</td>\n      <td>5</td>\n      <td>35.135135</td>\n    </tr>\n    <tr>\n      <th>idade_minima_socios</th>\n      <td>float64</td>\n      <td>59</td>\n      <td>34.774775</td>\n    </tr>\n    <tr>\n      <th>idade_maxima_socios</th>\n      <td>float64</td>\n      <td>62</td>\n      <td>34.774775</td>\n    </tr>\n    <tr>\n      <th>idade_media_socios</th>\n      <td>float64</td>\n      <td>80</td>\n      <td>34.774775</td>\n    </tr>\n    <tr>\n      <th>empsetorcensitariofaixarendapopulacao</th>\n      <td>float64</td>\n      <td>391</td>\n      <td>27.027027</td>\n    </tr>\n    <tr>\n      <th>qt_socios_pf</th>\n      <td>float64</td>\n      <td>6</td>\n      <td>26.486486</td>\n    </tr>\n    <tr>\n      <th>qt_socios</th>\n      <td>float64</td>\n      <td>6</td>\n      <td>26.486486</td>\n    </tr>\n    <tr>\n      <th>qt_socios_pj</th>\n      <td>float64</td>\n      <td>3</td>\n      <td>26.486486</td>\n    </tr>\n    <tr>\n      <th>fl_optante_simei</th>\n      <td>object</td>\n      <td>2</td>\n      <td>18.198198</td>\n    </tr>\n    <tr>\n      <th>fl_optante_simples</th>\n      <td>object</td>\n      <td>2</td>\n      <td>18.198198</td>\n    </tr>\n    <tr>\n      <th>nm_micro_regiao</th>\n      <td>object</td>\n      <td>66</td>\n      <td>11.531532</td>\n    </tr>\n    <tr>\n      <th>nm_meso_regiao</th>\n      <td>object</td>\n      <td>19</td>\n      <td>11.531532</td>\n    </tr>\n    <tr>\n      <th>nu_meses_rescencia</th>\n      <td>float64</td>\n      <td>23</td>\n      <td>8.468468</td>\n    </tr>\n    <tr>\n      <th>de_faixa_faturamento_estimado</th>\n      <td>object</td>\n      <td>7</td>\n      <td>4.504505</td>\n    </tr>\n    <tr>\n      <th>de_faixa_faturamento_estimado_grupo</th>\n      <td>object</td>\n      <td>9</td>\n      <td>4.504505</td>\n    </tr>\n    <tr>\n      <th>vl_faturamento_estimado_aux</th>\n      <td>float64</td>\n      <td>41</td>\n      <td>4.504505</td>\n    </tr>\n    <tr>\n      <th>vl_faturamento_estimado_grupo_aux</th>\n      <td>float64</td>\n      <td>66</td>\n      <td>4.504505</td>\n    </tr>\n    <tr>\n      <th>de_saude_rescencia</th>\n      <td>object</td>\n      <td>3</td>\n      <td>1.981982</td>\n    </tr>\n    <tr>\n      <th>de_saude_tributaria</th>\n      <td>object</td>\n      <td>6</td>\n      <td>1.981982</td>\n    </tr>\n    <tr>\n      <th>de_nivel_atividade</th>\n      <td>object</td>\n      <td>4</td>\n      <td>0.720721</td>\n    </tr>\n  </tbody>\n</table style=\"display:inline\"><table style=\"display:inline\" border=\"1\" class=\"dataframe\">\n  <thead>\n    <tr style=\"text-align: right;\">\n      <th></th>\n      <th>dtype</th>\n      <th>unique vals</th>\n      <th>missing%</th>\n    </tr>\n  </thead>\n  <tbody>\n    <tr>\n      <th>qt_socios_masculino</th>\n      <td>float64</td>\n      <td>41</td>\n      <td>57.794539</td>\n    </tr>\n    <tr>\n      <th>qt_socios_st_regular</th>\n      <td>float64</td>\n      <td>54</td>\n      <td>33.510203</td>\n    </tr>\n    <tr>\n      <th>idade_minima_socios</th>\n      <td>float64</td>\n      <td>114</td>\n      <td>32.793133</td>\n    </tr>\n    <tr>\n      <th>idade_maxima_socios</th>\n      <td>float64</td>\n      <td>118</td>\n      <td>32.793133</td>\n    </tr>\n    <tr>\n      <th>idade_media_socios</th>\n      <td>float64</td>\n      <td>1010</td>\n      <td>32.793133</td>\n    </tr>\n    <tr>\n      <th>empsetorcensitariofaixarendapopulacao</th>\n      <td>float64</td>\n      <td>15419</td>\n      <td>31.111750</td>\n    </tr>\n    <tr>\n      <th>qt_socios</th>\n      <td>float64</td>\n      <td>62</td>\n      <td>24.895414</td>\n    </tr>\n    <tr>\n      <th>qt_socios_pj</th>\n      <td>float64</td>\n      <td>12</td>\n      <td>24.895414</td>\n    </tr>\n    <tr>\n      <th>qt_socios_pf</th>\n      <td>float64</td>\n      <td>64</td>\n      <td>24.895414</td>\n    </tr>\n    <tr>\n      <th>fl_optante_simples</th>\n      <td>object</td>\n      <td>2</td>\n      <td>17.891706</td>\n    </tr>\n    <tr>\n      <th>fl_optante_simei</th>\n      <td>object</td>\n      <td>2</td>\n      <td>17.891706</td>\n    </tr>\n    <tr>\n      <th>nm_micro_regiao</th>\n      <td>object</td>\n      <td>73</td>\n      <td>12.697005</td>\n    </tr>\n    <tr>\n      <th>nm_meso_regiao</th>\n      <td>object</td>\n      <td>19</td>\n      <td>12.697005</td>\n    </tr>\n    <tr>\n      <th>nu_meses_rescencia</th>\n      <td>float64</td>\n      <td>51</td>\n      <td>9.793683</td>\n    </tr>\n    <tr>\n      <th>vl_faturamento_estimado_grupo_aux</th>\n      <td>float64</td>\n      <td>6794</td>\n      <td>5.951356</td>\n    </tr>\n    <tr>\n      <th>de_faixa_faturamento_estimado</th>\n      <td>object</td>\n      <td>12</td>\n      <td>5.951356</td>\n    </tr>\n    <tr>\n      <th>de_faixa_faturamento_estimado_grupo</th>\n      <td>object</td>\n      <td>11</td>\n      <td>5.951356</td>\n    </tr>\n    <tr>\n      <th>vl_faturamento_estimado_aux</th>\n      <td>float64</td>\n      <td>1920</td>\n      <td>5.951356</td>\n    </tr>\n    <tr>\n      <th>de_saude_rescencia</th>\n      <td>object</td>\n      <td>5</td>\n      <td>3.212430</td>\n    </tr>\n    <tr>\n      <th>de_saude_tributaria</th>\n      <td>object</td>\n      <td>6</td>\n      <td>3.212430</td>\n    </tr>\n    <tr>\n      <th>de_nivel_atividade</th>\n      <td>object</td>\n      <td>4</td>\n      <td>2.415758</td>\n    </tr>\n    <tr>\n      <th>sg_uf_matriz</th>\n      <td>object</td>\n      <td>27</td>\n      <td>0.419426</td>\n    </tr>\n    <tr>\n      <th>setor</th>\n      <td>object</td>\n      <td>5</td>\n      <td>0.416831</td>\n    </tr>\n    <tr>\n      <th>fl_passivel_iss</th>\n      <td>object</td>\n      <td>2</td>\n      <td>0.416831</td>\n    </tr>\n    <tr>\n      <th>vl_total_veiculos_leves_grupo</th>\n      <td>float64</td>\n      <td>310</td>\n      <td>0.416831</td>\n    </tr>\n    <tr>\n      <th>vl_total_veiculos_pesados_grupo</th>\n      <td>float64</td>\n      <td>296</td>\n      <td>0.416831</td>\n    </tr>\n    <tr>\n      <th>fl_veiculo</th>\n      <td>object</td>\n      <td>2</td>\n      <td>0.416831</td>\n    </tr>\n    <tr>\n      <th>fl_antt</th>\n      <td>object</td>\n      <td>2</td>\n      <td>0.416831</td>\n    </tr>\n    <tr>\n      <th>fl_spa</th>\n      <td>object</td>\n      <td>2</td>\n      <td>0.416831</td>\n    </tr>\n    <tr>\n      <th>nm_segmento</th>\n      <td>object</td>\n      <td>21</td>\n      <td>0.416831</td>\n    </tr>\n    <tr>\n      <th>nm_divisao</th>\n      <td>object</td>\n      <td>87</td>\n      <td>0.416831</td>\n    </tr>\n    <tr>\n      <th>fl_simples_irregular</th>\n      <td>object</td>\n      <td>2</td>\n      <td>0.416831</td>\n    </tr>\n    <tr>\n      <th>dt_situacao</th>\n      <td>object</td>\n      <td>7334</td>\n      <td>0.001298</td>\n    </tr>\n  </tbody>\n</table style=\"display:inline\">"
     },
     "metadata": {}
    }
   ],
   "source": [
    "# Check missing data < 60%\n",
    "display_side_by_side(\n",
    "        pf1_missing[pf1_missing['missing%'] < 60].sort_values(by='missing%', ascending=False),\n",
    "        market_missing[market_missing['missing%'] < 60].sort_values(by='missing%', ascending=False)\n",
    ")"
   ]
  },
  {
   "cell_type": "code",
   "execution_count": 180,
   "metadata": {
    "tags": []
   },
   "outputs": [
    {
     "output_type": "stream",
     "name": "stdout",
     "text": "Cols in market that not exist in Portfolio 1: \n {'nm_segmento', 'dt_situacao', 'sg_uf_matriz', 'vl_total_veiculos_leves_grupo', 'setor', 'fl_veiculo', 'vl_total_veiculos_pesados_grupo', 'nm_divisao', 'fl_spa', 'fl_simples_irregular', 'fl_antt', 'fl_passivel_iss'} \n\n"
    },
    {
     "output_type": "execute_result",
     "data": {
      "text/plain": "                                   dtype  unique vals  missing%\nnm_segmento                       object           21  0.416831\ndt_situacao                       object         7334  0.001298\nsg_uf_matriz                      object           27  0.419426\nvl_total_veiculos_leves_grupo    float64          310  0.416831\nsetor                             object            5  0.416831\nfl_veiculo                        object            2  0.416831\nvl_total_veiculos_pesados_grupo  float64          296  0.416831\nnm_divisao                        object           87  0.416831\nfl_spa                            object            2  0.416831\nfl_simples_irregular              object            2  0.416831\nfl_antt                           object            2  0.416831\nfl_passivel_iss                   object            2  0.416831",
      "text/html": "<div>\n<style scoped>\n    .dataframe tbody tr th:only-of-type {\n        vertical-align: middle;\n    }\n\n    .dataframe tbody tr th {\n        vertical-align: top;\n    }\n\n    .dataframe thead th {\n        text-align: right;\n    }\n</style>\n<table border=\"1\" class=\"dataframe\">\n  <thead>\n    <tr style=\"text-align: right;\">\n      <th></th>\n      <th>dtype</th>\n      <th>unique vals</th>\n      <th>missing%</th>\n    </tr>\n  </thead>\n  <tbody>\n    <tr>\n      <th>nm_segmento</th>\n      <td>object</td>\n      <td>21</td>\n      <td>0.416831</td>\n    </tr>\n    <tr>\n      <th>dt_situacao</th>\n      <td>object</td>\n      <td>7334</td>\n      <td>0.001298</td>\n    </tr>\n    <tr>\n      <th>sg_uf_matriz</th>\n      <td>object</td>\n      <td>27</td>\n      <td>0.419426</td>\n    </tr>\n    <tr>\n      <th>vl_total_veiculos_leves_grupo</th>\n      <td>float64</td>\n      <td>310</td>\n      <td>0.416831</td>\n    </tr>\n    <tr>\n      <th>setor</th>\n      <td>object</td>\n      <td>5</td>\n      <td>0.416831</td>\n    </tr>\n    <tr>\n      <th>fl_veiculo</th>\n      <td>object</td>\n      <td>2</td>\n      <td>0.416831</td>\n    </tr>\n    <tr>\n      <th>vl_total_veiculos_pesados_grupo</th>\n      <td>float64</td>\n      <td>296</td>\n      <td>0.416831</td>\n    </tr>\n    <tr>\n      <th>nm_divisao</th>\n      <td>object</td>\n      <td>87</td>\n      <td>0.416831</td>\n    </tr>\n    <tr>\n      <th>fl_spa</th>\n      <td>object</td>\n      <td>2</td>\n      <td>0.416831</td>\n    </tr>\n    <tr>\n      <th>fl_simples_irregular</th>\n      <td>object</td>\n      <td>2</td>\n      <td>0.416831</td>\n    </tr>\n    <tr>\n      <th>fl_antt</th>\n      <td>object</td>\n      <td>2</td>\n      <td>0.416831</td>\n    </tr>\n    <tr>\n      <th>fl_passivel_iss</th>\n      <td>object</td>\n      <td>2</td>\n      <td>0.416831</td>\n    </tr>\n  </tbody>\n</table>\n</div>"
     },
     "metadata": {},
     "execution_count": 180
    }
   ],
   "source": [
    "# Check amount of unmatch columns\n",
    "diff = set(market_missing.index.tolist()) - set(pf1_missing.index.to_list())\n",
    "print(f\"Cols in market that not exist in Portfolio 1: \\n {diff} \\n\")\n",
    "\n",
    "# Let's take a look on df\n",
    "market_missing.loc[diff, :]"
   ]
  },
  {
   "cell_type": "markdown",
   "metadata": {},
   "source": [
    "## Feature analyses\n",
    "### 1st step...\n",
    "To build a useful and decent machine learning model we need to understand the bussiness problem, and consequently what each feature describe. Since we removed features with *high amount of missing data* (maybe we have to remove more), let's understand them.\n",
    "\n",
    "*   **identifier**:\n",
    ">   id \n",
    "\n",
    "_______\n",
    "### Business description\n",
    "*  **sector**: \n",
    ">   (de_natureza_juridica, natureza_juridica_macro), (de_ramo, setor, nm_segmento), de_nivel_atividade, nm_divisao, 'natureza_juridica_macro'\n",
    "*   **age**: \n",
    ">   idade_emp_cat, idade_empresa_anos\n",
    "\n",
    "*  **location**: \n",
    ">   sg_uf, nm_meso_regiao, nm_micro_regiao, sg_uf_matriz, fl_rm\n",
    "\n",
    "*  **assets (inventory)**: \n",
    ">   fl_veiculo, vl_total_veiculos_pesados_grupo, vl_total_veiculos_leves_grupo, qt_filiais\n",
    "\n",
    "_______\n",
    "### Finnances \n",
    "\n",
    "*   **tax**: \n",
    ">   fl_optante_simples, fl_optante_simei, fl_simples_irregular, fl_passivel_iss\n",
    "\n",
    "*   **metrics to measure financial health**:\n",
    ">   de_saude_tributaria, de_saude_rescencia, nu_meses_rescencia, de_nivel_atividade\n",
    "\n",
    "*   **revenue**:\n",
    ">   vl_faturamento_estimado_aux, de_faixa_faturamento_estimado, de_faixa_faturamento_estimado_grupo, vl_faturamento_estimado_grupo_aux\n",
    "\n",
    "*   **shareholders description**: \n",
    ">   'qt_socios', 'qt_socios_pf', 'qt_socios_pj', 'idade_media_socios', 'idade_maxima_socios', 'idade_minima_socios', qt_socios_masculino, qt_socios_feminino, 'qt_socios_st_regular', qt_socios_masculino\n",
    "\n",
    "_______\n",
    "### Government data (purchasing power)\n",
    ">   empsetorcensitariofaixarendapopulacao\n",
    "\n",
    "_______\n",
    "*   **Name description**: \n",
    ">   'fl_me', 'fl_mei', 'fl_sa', 'fl_epp', fl_ltda\n",
    "\n",
    "_______\n",
    "### Others\n",
    "*   **Irrelevant**:\n",
    ">   fl_spa, fl_telefone\n",
    "\n",
    "*   **I dont have a clue**: \n",
    ">   fl_st_especial, fl_matriz (CNPJ or not), fl_antt"
   ]
  },
  {
   "cell_type": "markdown",
   "metadata": {},
   "source": [
    "# Drop or not drop?\n",
    "### 2nd step...\n",
    "After the initial feature analysis, we detected some duplicate features, for example:\n",
    "\n",
    "*   'de_ramo', 'setor', 'nm_segmento'\n",
    "*    fl_veiculo, vl_total_veiculos_pesados_grupo, vl_total_veiculos_leves_grupo\n",
    "\n",
    "express similar ideas. Another option, is summarize them in a new feature.\n",
    "\n",
    "Unnecessary = fl_spa, fl_rm, fl_matriz,fl_antt, 'fl_me', 'fl_mei', 'fl_sa', fl_telefone, 'fl_epp'"
   ]
  },
  {
   "cell_type": "code",
   "execution_count": 181,
   "metadata": {},
   "outputs": [
    {
     "output_type": "execute_result",
     "data": {
      "text/plain": "\"\\nduplicate_cols = ['de_ramo', 'nm_segmento', 'natureza_juridica_macro', 'idade_emp_cat']\\nunnecessary_cols = ['fl_spa', 'fl_rm', 'fl_matriz', 'fl_antt', 'fl_me', 'fl_mei', 'fl_sa', 'fl_telefone', 'fl_epp']\\n\\n# Since I don't know if I already remove this columns, I will check if they exist on dataframes\\nduplicate_cols_pf1 = [col for col in pf1.columns.tolist() for dupli in duplicate_cols if col == dupli]\\nduplicate_cols_market = [col for col in market.columns.tolist() for dupli in duplicate_cols if col == dupli]\\n\\ndisplay(duplicate_cols_pf1)\\ndisplay(duplicate_cols_market)\\n\""
     },
     "metadata": {},
     "execution_count": 181
    }
   ],
   "source": [
    "\"\"\"\n",
    "duplicate_cols = ['de_ramo', 'nm_segmento', 'natureza_juridica_macro', 'idade_emp_cat']\n",
    "unnecessary_cols = ['fl_spa', 'fl_rm', 'fl_matriz', 'fl_antt', 'fl_me', 'fl_mei', 'fl_sa', 'fl_telefone', 'fl_epp']\n",
    "\n",
    "# Since I don't know if I already remove this columns, I will check if they exist on dataframes\n",
    "duplicate_cols_pf1 = [col for col in pf1.columns.tolist() for dupli in duplicate_cols if col == dupli]\n",
    "duplicate_cols_market = [col for col in market.columns.tolist() for dupli in duplicate_cols if col == dupli]\n",
    "\n",
    "display(duplicate_cols_pf1)\n",
    "display(duplicate_cols_market)\n",
    "\"\"\""
   ]
  },
  {
   "cell_type": "code",
   "execution_count": 182,
   "metadata": {
    "tags": []
   },
   "outputs": [
    {
     "output_type": "stream",
     "name": "stdout",
     "text": "['fl_telefone', 'fl_spa']\n['fl_telefone', 'fl_spa']\n"
    }
   ],
   "source": [
    "unnecessary_cols = ['fl_spa', 'fl_telefone']\n",
    "\n",
    "# Since I don't know if I already remove this columns, I will check if they exist on dataframes\n",
    "un_cols_pf1 = [col for col in pf1.columns.tolist() for dupli in unnecessary_cols if col == dupli]\n",
    "un_cols_market = [col for col in market.columns.tolist() for dupli in unnecessary_cols if col == dupli]\n",
    "\n",
    "print(un_cols_pf1)\n",
    "print(un_cols_market)"
   ]
  },
  {
   "cell_type": "code",
   "execution_count": 183,
   "metadata": {
    "tags": []
   },
   "outputs": [
    {
     "output_type": "stream",
     "name": "stdout",
     "text": "\n    Columns in pf1: 49, \n    Columns in market: 50\n    \n"
    }
   ],
   "source": [
    "# Drop unnecessary columns\n",
    "pf1 = pf1.drop(un_cols_pf1, axis='columns')\n",
    "market = market.drop(un_cols_market, axis='columns')\n",
    "\n",
    "# Check amount of columns in each dataframe\n",
    "print(f\"\"\"\n",
    "    Columns in pf1: {pf1.shape[1]}, \n",
    "    Columns in market: {market.shape[1]}\n",
    "    \"\"\")"
   ]
  },
  {
   "cell_type": "markdown",
   "metadata": {},
   "source": [
    "# Fill nan values"
   ]
  },
  {
   "cell_type": "code",
   "execution_count": 191,
   "metadata": {},
   "outputs": [
    {
     "output_type": "execute_result",
     "data": {
      "text/plain": "                                         dtype  unique vals   missing%\nqt_socios_masculino                    float64           41  57.794539\nqt_socios_st_regular                   float64           54  33.510203\nidade_minima_socios                    float64          114  32.793133\nidade_media_socios                     float64         1010  32.793133\nidade_maxima_socios                    float64          118  32.793133\nempsetorcensitariofaixarendapopulacao  float64        15419  31.111750\nqt_socios_pj                           float64           12  24.895414\nqt_socios_pf                           float64           64  24.895414\nqt_socios                              float64           62  24.895414\nfl_optante_simples                      object            2  17.891706\nfl_optante_simei                        object            2  17.891706\nnm_meso_regiao                          object           19  12.697005\nnm_micro_regiao                         object           73  12.697005\nnu_meses_rescencia                     float64           51   9.793683\nde_faixa_faturamento_estimado           object           12   5.951356\nde_faixa_faturamento_estimado_grupo     object           11   5.951356\nvl_faturamento_estimado_aux            float64         1920   5.951356\nvl_faturamento_estimado_grupo_aux      float64         6794   5.951356\nde_saude_rescencia                      object            5   3.212430\nde_saude_tributaria                     object            6   3.212430\nde_nivel_atividade                      object            4   2.415758\nsg_uf_matriz                            object           27   0.419426\nfl_passivel_iss                         object            2   0.416831\nfl_simples_irregular                    object            2   0.416831\nvl_total_veiculos_leves_grupo          float64          310   0.416831\nvl_total_veiculos_pesados_grupo        float64          296   0.416831\nfl_veiculo                              object            2   0.416831\nfl_antt                                 object            2   0.416831\nnm_segmento                             object           21   0.416831\nnm_divisao                              object           87   0.416831\nsetor                                   object            5   0.416831\ndt_situacao                             object         7334   0.001298",
      "text/html": "<div>\n<style scoped>\n    .dataframe tbody tr th:only-of-type {\n        vertical-align: middle;\n    }\n\n    .dataframe tbody tr th {\n        vertical-align: top;\n    }\n\n    .dataframe thead th {\n        text-align: right;\n    }\n</style>\n<table border=\"1\" class=\"dataframe\">\n  <thead>\n    <tr style=\"text-align: right;\">\n      <th></th>\n      <th>dtype</th>\n      <th>unique vals</th>\n      <th>missing%</th>\n    </tr>\n  </thead>\n  <tbody>\n    <tr>\n      <th>qt_socios_masculino</th>\n      <td>float64</td>\n      <td>41</td>\n      <td>57.794539</td>\n    </tr>\n    <tr>\n      <th>qt_socios_st_regular</th>\n      <td>float64</td>\n      <td>54</td>\n      <td>33.510203</td>\n    </tr>\n    <tr>\n      <th>idade_minima_socios</th>\n      <td>float64</td>\n      <td>114</td>\n      <td>32.793133</td>\n    </tr>\n    <tr>\n      <th>idade_media_socios</th>\n      <td>float64</td>\n      <td>1010</td>\n      <td>32.793133</td>\n    </tr>\n    <tr>\n      <th>idade_maxima_socios</th>\n      <td>float64</td>\n      <td>118</td>\n      <td>32.793133</td>\n    </tr>\n    <tr>\n      <th>empsetorcensitariofaixarendapopulacao</th>\n      <td>float64</td>\n      <td>15419</td>\n      <td>31.111750</td>\n    </tr>\n    <tr>\n      <th>qt_socios_pj</th>\n      <td>float64</td>\n      <td>12</td>\n      <td>24.895414</td>\n    </tr>\n    <tr>\n      <th>qt_socios_pf</th>\n      <td>float64</td>\n      <td>64</td>\n      <td>24.895414</td>\n    </tr>\n    <tr>\n      <th>qt_socios</th>\n      <td>float64</td>\n      <td>62</td>\n      <td>24.895414</td>\n    </tr>\n    <tr>\n      <th>fl_optante_simples</th>\n      <td>object</td>\n      <td>2</td>\n      <td>17.891706</td>\n    </tr>\n    <tr>\n      <th>fl_optante_simei</th>\n      <td>object</td>\n      <td>2</td>\n      <td>17.891706</td>\n    </tr>\n    <tr>\n      <th>nm_meso_regiao</th>\n      <td>object</td>\n      <td>19</td>\n      <td>12.697005</td>\n    </tr>\n    <tr>\n      <th>nm_micro_regiao</th>\n      <td>object</td>\n      <td>73</td>\n      <td>12.697005</td>\n    </tr>\n    <tr>\n      <th>nu_meses_rescencia</th>\n      <td>float64</td>\n      <td>51</td>\n      <td>9.793683</td>\n    </tr>\n    <tr>\n      <th>de_faixa_faturamento_estimado</th>\n      <td>object</td>\n      <td>12</td>\n      <td>5.951356</td>\n    </tr>\n    <tr>\n      <th>de_faixa_faturamento_estimado_grupo</th>\n      <td>object</td>\n      <td>11</td>\n      <td>5.951356</td>\n    </tr>\n    <tr>\n      <th>vl_faturamento_estimado_aux</th>\n      <td>float64</td>\n      <td>1920</td>\n      <td>5.951356</td>\n    </tr>\n    <tr>\n      <th>vl_faturamento_estimado_grupo_aux</th>\n      <td>float64</td>\n      <td>6794</td>\n      <td>5.951356</td>\n    </tr>\n    <tr>\n      <th>de_saude_rescencia</th>\n      <td>object</td>\n      <td>5</td>\n      <td>3.212430</td>\n    </tr>\n    <tr>\n      <th>de_saude_tributaria</th>\n      <td>object</td>\n      <td>6</td>\n      <td>3.212430</td>\n    </tr>\n    <tr>\n      <th>de_nivel_atividade</th>\n      <td>object</td>\n      <td>4</td>\n      <td>2.415758</td>\n    </tr>\n    <tr>\n      <th>sg_uf_matriz</th>\n      <td>object</td>\n      <td>27</td>\n      <td>0.419426</td>\n    </tr>\n    <tr>\n      <th>fl_passivel_iss</th>\n      <td>object</td>\n      <td>2</td>\n      <td>0.416831</td>\n    </tr>\n    <tr>\n      <th>fl_simples_irregular</th>\n      <td>object</td>\n      <td>2</td>\n      <td>0.416831</td>\n    </tr>\n    <tr>\n      <th>vl_total_veiculos_leves_grupo</th>\n      <td>float64</td>\n      <td>310</td>\n      <td>0.416831</td>\n    </tr>\n    <tr>\n      <th>vl_total_veiculos_pesados_grupo</th>\n      <td>float64</td>\n      <td>296</td>\n      <td>0.416831</td>\n    </tr>\n    <tr>\n      <th>fl_veiculo</th>\n      <td>object</td>\n      <td>2</td>\n      <td>0.416831</td>\n    </tr>\n    <tr>\n      <th>fl_antt</th>\n      <td>object</td>\n      <td>2</td>\n      <td>0.416831</td>\n    </tr>\n    <tr>\n      <th>nm_segmento</th>\n      <td>object</td>\n      <td>21</td>\n      <td>0.416831</td>\n    </tr>\n    <tr>\n      <th>nm_divisao</th>\n      <td>object</td>\n      <td>87</td>\n      <td>0.416831</td>\n    </tr>\n    <tr>\n      <th>setor</th>\n      <td>object</td>\n      <td>5</td>\n      <td>0.416831</td>\n    </tr>\n    <tr>\n      <th>dt_situacao</th>\n      <td>object</td>\n      <td>7334</td>\n      <td>0.001298</td>\n    </tr>\n  </tbody>\n</table>\n</div>"
     },
     "metadata": {},
     "execution_count": 191
    }
   ],
   "source": [
    "a, _ = missing_data(market)\n",
    "a.sort_values(by='missing%', ascending=False)"
   ]
  }
 ]
}