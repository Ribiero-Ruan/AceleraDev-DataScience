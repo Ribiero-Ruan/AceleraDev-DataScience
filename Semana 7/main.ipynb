{
 "cells": [
  {
   "cell_type": "markdown",
   "metadata": {},
   "source": [
    "# Desafio 6\n",
    "\n",
    "Neste desafio, vamos praticar _feature engineering_, um dos processos mais importantes e trabalhosos de ML. Utilizaremos o _data set_ [Countries of the world](https://www.kaggle.com/fernandol/countries-of-the-world), que contém dados sobre os 227 países do mundo com informações sobre tamanho da população, área, imigração e setores de produção.\n",
    "\n",
    "> Obs.: Por favor, não modifique o nome das funções de resposta."
   ]
  },
  {
   "cell_type": "markdown",
   "metadata": {},
   "source": [
    "## _Setup_ geral"
   ]
  },
  {
   "cell_type": "code",
   "execution_count": 1,
   "metadata": {},
   "outputs": [],
   "source": [
    "import math\n",
    "\n",
    "import sklearn \n",
    "import numpy as np\n",
    "import pandas as pd\n",
    "import seaborn as sns\n",
    "\n",
    "from sklearn.pipeline import Pipeline\n",
    "from sklearn.impute import SimpleImputer\n",
    "from sklearn.datasets import fetch_20newsgroups\n",
    "from sklearn.feature_extraction.text import CountVectorizer, TfidfVectorizer\n",
    "from sklearn.preprocessing import StandardScaler, KBinsDiscretizer, OneHotEncoder"
   ]
  },
  {
   "cell_type": "code",
   "execution_count": 2,
   "metadata": {
    "scrolled": false
   },
   "outputs": [],
   "source": [
    "# Read dataset\n",
    "countries = pd.read_csv(\"countries.csv\")"
   ]
  },
  {
   "cell_type": "code",
   "execution_count": 3,
   "metadata": {},
   "outputs": [
    {
     "output_type": "execute_result",
     "data": {
      "text/plain": "           Country                               Region  Population     Area  \\\n0     Afghanistan         ASIA (EX. NEAR EAST)             31056997   647500   \n1         Albania   EASTERN EUROPE                          3581655    28748   \n2         Algeria   NORTHERN AFRICA                        32930091  2381740   \n3  American Samoa   OCEANIA                                   57794      199   \n4         Andorra   WESTERN EUROPE                            71201      468   \n\n  Pop_density Coastline_ratio Net_migration Infant_mortality      GDP  \\\n0        48,0            0,00         23,06           163,07    700.0   \n1       124,6            1,26         -4,93            21,52   4500.0   \n2        13,8            0,04         -0,39               31   6000.0   \n3       290,4           58,29        -20,71             9,27   8000.0   \n4       152,1            0,00           6,6             4,05  19000.0   \n\n  Literacy Phones_per_1000 Arable Crops  Other Climate Birthrate Deathrate  \\\n0     36,0             3,2  12,13  0,22  87,65       1      46,6     20,34   \n1     86,5            71,2  21,09  4,42  74,49       3     15,11      5,22   \n2     70,0            78,1   3,22  0,25  96,53       1     17,14      4,61   \n3     97,0           259,5     10    15     75       2     22,46      3,27   \n4    100,0           497,2   2,22     0  97,78       3      8,71      6,25   \n\n  Agriculture Industry Service  \n0        0,38     0,24    0,38  \n1       0,232    0,188   0,579  \n2       0,101      0,6   0,298  \n3         NaN      NaN     NaN  \n4         NaN      NaN     NaN  ",
      "text/html": "<div>\n<style scoped>\n    .dataframe tbody tr th:only-of-type {\n        vertical-align: middle;\n    }\n\n    .dataframe tbody tr th {\n        vertical-align: top;\n    }\n\n    .dataframe thead th {\n        text-align: right;\n    }\n</style>\n<table border=\"1\" class=\"dataframe\">\n  <thead>\n    <tr style=\"text-align: right;\">\n      <th></th>\n      <th>Country</th>\n      <th>Region</th>\n      <th>Population</th>\n      <th>Area</th>\n      <th>Pop_density</th>\n      <th>Coastline_ratio</th>\n      <th>Net_migration</th>\n      <th>Infant_mortality</th>\n      <th>GDP</th>\n      <th>Literacy</th>\n      <th>Phones_per_1000</th>\n      <th>Arable</th>\n      <th>Crops</th>\n      <th>Other</th>\n      <th>Climate</th>\n      <th>Birthrate</th>\n      <th>Deathrate</th>\n      <th>Agriculture</th>\n      <th>Industry</th>\n      <th>Service</th>\n    </tr>\n  </thead>\n  <tbody>\n    <tr>\n      <th>0</th>\n      <td>Afghanistan</td>\n      <td>ASIA (EX. NEAR EAST)</td>\n      <td>31056997</td>\n      <td>647500</td>\n      <td>48,0</td>\n      <td>0,00</td>\n      <td>23,06</td>\n      <td>163,07</td>\n      <td>700.0</td>\n      <td>36,0</td>\n      <td>3,2</td>\n      <td>12,13</td>\n      <td>0,22</td>\n      <td>87,65</td>\n      <td>1</td>\n      <td>46,6</td>\n      <td>20,34</td>\n      <td>0,38</td>\n      <td>0,24</td>\n      <td>0,38</td>\n    </tr>\n    <tr>\n      <th>1</th>\n      <td>Albania</td>\n      <td>EASTERN EUROPE</td>\n      <td>3581655</td>\n      <td>28748</td>\n      <td>124,6</td>\n      <td>1,26</td>\n      <td>-4,93</td>\n      <td>21,52</td>\n      <td>4500.0</td>\n      <td>86,5</td>\n      <td>71,2</td>\n      <td>21,09</td>\n      <td>4,42</td>\n      <td>74,49</td>\n      <td>3</td>\n      <td>15,11</td>\n      <td>5,22</td>\n      <td>0,232</td>\n      <td>0,188</td>\n      <td>0,579</td>\n    </tr>\n    <tr>\n      <th>2</th>\n      <td>Algeria</td>\n      <td>NORTHERN AFRICA</td>\n      <td>32930091</td>\n      <td>2381740</td>\n      <td>13,8</td>\n      <td>0,04</td>\n      <td>-0,39</td>\n      <td>31</td>\n      <td>6000.0</td>\n      <td>70,0</td>\n      <td>78,1</td>\n      <td>3,22</td>\n      <td>0,25</td>\n      <td>96,53</td>\n      <td>1</td>\n      <td>17,14</td>\n      <td>4,61</td>\n      <td>0,101</td>\n      <td>0,6</td>\n      <td>0,298</td>\n    </tr>\n    <tr>\n      <th>3</th>\n      <td>American Samoa</td>\n      <td>OCEANIA</td>\n      <td>57794</td>\n      <td>199</td>\n      <td>290,4</td>\n      <td>58,29</td>\n      <td>-20,71</td>\n      <td>9,27</td>\n      <td>8000.0</td>\n      <td>97,0</td>\n      <td>259,5</td>\n      <td>10</td>\n      <td>15</td>\n      <td>75</td>\n      <td>2</td>\n      <td>22,46</td>\n      <td>3,27</td>\n      <td>NaN</td>\n      <td>NaN</td>\n      <td>NaN</td>\n    </tr>\n    <tr>\n      <th>4</th>\n      <td>Andorra</td>\n      <td>WESTERN EUROPE</td>\n      <td>71201</td>\n      <td>468</td>\n      <td>152,1</td>\n      <td>0,00</td>\n      <td>6,6</td>\n      <td>4,05</td>\n      <td>19000.0</td>\n      <td>100,0</td>\n      <td>497,2</td>\n      <td>2,22</td>\n      <td>0</td>\n      <td>97,78</td>\n      <td>3</td>\n      <td>8,71</td>\n      <td>6,25</td>\n      <td>NaN</td>\n      <td>NaN</td>\n      <td>NaN</td>\n    </tr>\n  </tbody>\n</table>\n</div>"
     },
     "metadata": {},
     "execution_count": 3
    }
   ],
   "source": [
    "new_column_names = [\n",
    "    \"Country\", \"Region\", \"Population\", \"Area\", \"Pop_density\", \"Coastline_ratio\",\n",
    "    \"Net_migration\", \"Infant_mortality\", \"GDP\", \"Literacy\", \"Phones_per_1000\",\n",
    "    \"Arable\", \"Crops\", \"Other\", \"Climate\", \"Birthrate\", \"Deathrate\", \"Agriculture\",\n",
    "    \"Industry\", \"Service\"\n",
    "]\n",
    "\n",
    "countries.columns = new_column_names\n",
    "\n",
    "countries.head(5)"
   ]
  },
  {
   "cell_type": "markdown",
   "metadata": {},
   "source": [
    "## Observações\n",
    "\n",
    "Esse _data set_ ainda precisa de alguns ajustes iniciais. Primeiro, note que as variáveis numéricas estão usando vírgula como separador decimal e estão codificadas como strings. Corrija isso antes de continuar: transforme essas variáveis em numéricas adequadamente.\n",
    "\n",
    "Além disso, as variáveis `Country` e `Region` possuem espaços a mais no começo e no final da string. Você pode utilizar o método `str.strip()` para remover esses espaços."
   ]
  },
  {
   "cell_type": "code",
   "execution_count": 4,
   "metadata": {},
   "outputs": [
    {
     "output_type": "execute_result",
     "data": {
      "text/plain": "           Country                               Region  Population  \\\n0     Afghanistan         ASIA (EX. NEAR EAST)             31056997   \n1         Albania   EASTERN EUROPE                          3581655   \n2         Algeria   NORTHERN AFRICA                        32930091   \n3  American Samoa   OCEANIA                                   57794   \n4         Andorra   WESTERN EUROPE                            71201   \n\n   Area (sq. mi.)  Pop. Density (per sq. mi.)  Coastline (coast/area ratio)  \\\n0          647500                        48.0                          0.00   \n1           28748                       124.6                          1.26   \n2         2381740                        13.8                          0.04   \n3             199                       290.4                         58.29   \n4             468                       152.1                          0.00   \n\n   Net migration  Infant mortality (per 1000 births)  GDP ($ per capita)  \\\n0          23.06                              163.07               700.0   \n1          -4.93                               21.52              4500.0   \n2          -0.39                               31.00              6000.0   \n3         -20.71                                9.27              8000.0   \n4           6.60                                4.05             19000.0   \n\n   Literacy (%)  Phones (per 1000)  Arable (%)  Crops (%)  Other (%)  Climate  \\\n0          36.0                3.2       12.13       0.22      87.65      1.0   \n1          86.5               71.2       21.09       4.42      74.49      3.0   \n2          70.0               78.1        3.22       0.25      96.53      1.0   \n3          97.0              259.5       10.00      15.00      75.00      2.0   \n4         100.0              497.2        2.22       0.00      97.78      3.0   \n\n   Birthrate  Deathrate  Agriculture  Industry  Service  \n0      46.60      20.34        0.380     0.240    0.380  \n1      15.11       5.22        0.232     0.188    0.579  \n2      17.14       4.61        0.101     0.600    0.298  \n3      22.46       3.27          NaN       NaN      NaN  \n4       8.71       6.25          NaN       NaN      NaN  ",
      "text/html": "<div>\n<style scoped>\n    .dataframe tbody tr th:only-of-type {\n        vertical-align: middle;\n    }\n\n    .dataframe tbody tr th {\n        vertical-align: top;\n    }\n\n    .dataframe thead th {\n        text-align: right;\n    }\n</style>\n<table border=\"1\" class=\"dataframe\">\n  <thead>\n    <tr style=\"text-align: right;\">\n      <th></th>\n      <th>Country</th>\n      <th>Region</th>\n      <th>Population</th>\n      <th>Area (sq. mi.)</th>\n      <th>Pop. Density (per sq. mi.)</th>\n      <th>Coastline (coast/area ratio)</th>\n      <th>Net migration</th>\n      <th>Infant mortality (per 1000 births)</th>\n      <th>GDP ($ per capita)</th>\n      <th>Literacy (%)</th>\n      <th>Phones (per 1000)</th>\n      <th>Arable (%)</th>\n      <th>Crops (%)</th>\n      <th>Other (%)</th>\n      <th>Climate</th>\n      <th>Birthrate</th>\n      <th>Deathrate</th>\n      <th>Agriculture</th>\n      <th>Industry</th>\n      <th>Service</th>\n    </tr>\n  </thead>\n  <tbody>\n    <tr>\n      <th>0</th>\n      <td>Afghanistan</td>\n      <td>ASIA (EX. NEAR EAST)</td>\n      <td>31056997</td>\n      <td>647500</td>\n      <td>48.0</td>\n      <td>0.00</td>\n      <td>23.06</td>\n      <td>163.07</td>\n      <td>700.0</td>\n      <td>36.0</td>\n      <td>3.2</td>\n      <td>12.13</td>\n      <td>0.22</td>\n      <td>87.65</td>\n      <td>1.0</td>\n      <td>46.60</td>\n      <td>20.34</td>\n      <td>0.380</td>\n      <td>0.240</td>\n      <td>0.380</td>\n    </tr>\n    <tr>\n      <th>1</th>\n      <td>Albania</td>\n      <td>EASTERN EUROPE</td>\n      <td>3581655</td>\n      <td>28748</td>\n      <td>124.6</td>\n      <td>1.26</td>\n      <td>-4.93</td>\n      <td>21.52</td>\n      <td>4500.0</td>\n      <td>86.5</td>\n      <td>71.2</td>\n      <td>21.09</td>\n      <td>4.42</td>\n      <td>74.49</td>\n      <td>3.0</td>\n      <td>15.11</td>\n      <td>5.22</td>\n      <td>0.232</td>\n      <td>0.188</td>\n      <td>0.579</td>\n    </tr>\n    <tr>\n      <th>2</th>\n      <td>Algeria</td>\n      <td>NORTHERN AFRICA</td>\n      <td>32930091</td>\n      <td>2381740</td>\n      <td>13.8</td>\n      <td>0.04</td>\n      <td>-0.39</td>\n      <td>31.00</td>\n      <td>6000.0</td>\n      <td>70.0</td>\n      <td>78.1</td>\n      <td>3.22</td>\n      <td>0.25</td>\n      <td>96.53</td>\n      <td>1.0</td>\n      <td>17.14</td>\n      <td>4.61</td>\n      <td>0.101</td>\n      <td>0.600</td>\n      <td>0.298</td>\n    </tr>\n    <tr>\n      <th>3</th>\n      <td>American Samoa</td>\n      <td>OCEANIA</td>\n      <td>57794</td>\n      <td>199</td>\n      <td>290.4</td>\n      <td>58.29</td>\n      <td>-20.71</td>\n      <td>9.27</td>\n      <td>8000.0</td>\n      <td>97.0</td>\n      <td>259.5</td>\n      <td>10.00</td>\n      <td>15.00</td>\n      <td>75.00</td>\n      <td>2.0</td>\n      <td>22.46</td>\n      <td>3.27</td>\n      <td>NaN</td>\n      <td>NaN</td>\n      <td>NaN</td>\n    </tr>\n    <tr>\n      <th>4</th>\n      <td>Andorra</td>\n      <td>WESTERN EUROPE</td>\n      <td>71201</td>\n      <td>468</td>\n      <td>152.1</td>\n      <td>0.00</td>\n      <td>6.60</td>\n      <td>4.05</td>\n      <td>19000.0</td>\n      <td>100.0</td>\n      <td>497.2</td>\n      <td>2.22</td>\n      <td>0.00</td>\n      <td>97.78</td>\n      <td>3.0</td>\n      <td>8.71</td>\n      <td>6.25</td>\n      <td>NaN</td>\n      <td>NaN</td>\n      <td>NaN</td>\n    </tr>\n  </tbody>\n</table>\n</div>"
     },
     "metadata": {},
     "execution_count": 4
    }
   ],
   "source": [
    "# Reading again and replacing decimal separator\n",
    "countries = pd.read_csv('./countries.csv', decimal=',')\n",
    "countries.head(5)"
   ]
  },
  {
   "cell_type": "code",
   "execution_count": 5,
   "metadata": {
    "tags": []
   },
   "outputs": [
    {
     "output_type": "execute_result",
     "data": {
      "text/plain": "'Afghanistan'"
     },
     "metadata": {},
     "execution_count": 5
    }
   ],
   "source": [
    "# Removing whitespace from object columns, i.e. Country and Region\n",
    "countries = countries.apply(lambda x: x.str.rstrip() if x.dtype =='object' else x)\n",
    "\n",
    "# Checking\n",
    "countries['Country'][0]"
   ]
  },
  {
   "cell_type": "code",
   "execution_count": 6,
   "metadata": {},
   "outputs": [
    {
     "output_type": "execute_result",
     "data": {
      "text/plain": "            Country  Region Population Area (sq. mi.)  \\\ndtype        object  object      int64          int64   \nunique_vals     227      11        227            226   \nmissing%          0       0          0              0   \n\n            Pop. Density (per sq. mi.) Coastline (coast/area ratio)  \\\ndtype                          float64                      float64   \nunique_vals                        219                          151   \nmissing%                             0                            0   \n\n            Net migration Infant mortality (per 1000 births)  \\\ndtype             float64                            float64   \nunique_vals           157                                220   \nmissing%          1.32159                            1.32159   \n\n            GDP ($ per capita) Literacy (%) Phones (per 1000) Arable (%)  \\\ndtype                  float64      float64           float64    float64   \nunique_vals                130          140               214        203   \nmissing%              0.440529      7.92952           1.76211   0.881057   \n\n            Crops (%) Other (%)  Climate Birthrate Deathrate Agriculture  \\\ndtype         float64   float64  float64   float64   float64     float64   \nunique_vals       162       209        6       220       201         150   \nmissing%     0.881057  0.881057  9.69163   1.32159   1.76211     6.60793   \n\n            Industry  Service  \ndtype        float64  float64  \nunique_vals      155      167  \nmissing%     7.04846  6.60793  ",
      "text/html": "<div>\n<style scoped>\n    .dataframe tbody tr th:only-of-type {\n        vertical-align: middle;\n    }\n\n    .dataframe tbody tr th {\n        vertical-align: top;\n    }\n\n    .dataframe thead th {\n        text-align: right;\n    }\n</style>\n<table border=\"1\" class=\"dataframe\">\n  <thead>\n    <tr style=\"text-align: right;\">\n      <th></th>\n      <th>Country</th>\n      <th>Region</th>\n      <th>Population</th>\n      <th>Area (sq. mi.)</th>\n      <th>Pop. Density (per sq. mi.)</th>\n      <th>Coastline (coast/area ratio)</th>\n      <th>Net migration</th>\n      <th>Infant mortality (per 1000 births)</th>\n      <th>GDP ($ per capita)</th>\n      <th>Literacy (%)</th>\n      <th>Phones (per 1000)</th>\n      <th>Arable (%)</th>\n      <th>Crops (%)</th>\n      <th>Other (%)</th>\n      <th>Climate</th>\n      <th>Birthrate</th>\n      <th>Deathrate</th>\n      <th>Agriculture</th>\n      <th>Industry</th>\n      <th>Service</th>\n    </tr>\n  </thead>\n  <tbody>\n    <tr>\n      <th>dtype</th>\n      <td>object</td>\n      <td>object</td>\n      <td>int64</td>\n      <td>int64</td>\n      <td>float64</td>\n      <td>float64</td>\n      <td>float64</td>\n      <td>float64</td>\n      <td>float64</td>\n      <td>float64</td>\n      <td>float64</td>\n      <td>float64</td>\n      <td>float64</td>\n      <td>float64</td>\n      <td>float64</td>\n      <td>float64</td>\n      <td>float64</td>\n      <td>float64</td>\n      <td>float64</td>\n      <td>float64</td>\n    </tr>\n    <tr>\n      <th>unique_vals</th>\n      <td>227</td>\n      <td>11</td>\n      <td>227</td>\n      <td>226</td>\n      <td>219</td>\n      <td>151</td>\n      <td>157</td>\n      <td>220</td>\n      <td>130</td>\n      <td>140</td>\n      <td>214</td>\n      <td>203</td>\n      <td>162</td>\n      <td>209</td>\n      <td>6</td>\n      <td>220</td>\n      <td>201</td>\n      <td>150</td>\n      <td>155</td>\n      <td>167</td>\n    </tr>\n    <tr>\n      <th>missing%</th>\n      <td>0</td>\n      <td>0</td>\n      <td>0</td>\n      <td>0</td>\n      <td>0</td>\n      <td>0</td>\n      <td>1.32159</td>\n      <td>1.32159</td>\n      <td>0.440529</td>\n      <td>7.92952</td>\n      <td>1.76211</td>\n      <td>0.881057</td>\n      <td>0.881057</td>\n      <td>0.881057</td>\n      <td>9.69163</td>\n      <td>1.32159</td>\n      <td>1.76211</td>\n      <td>6.60793</td>\n      <td>7.04846</td>\n      <td>6.60793</td>\n    </tr>\n  </tbody>\n</table>\n</div>"
     },
     "metadata": {},
     "execution_count": 6
    }
   ],
   "source": [
    "info = pd.DataFrame({'dtype': countries.dtypes,\n",
    "                    'unique_vals': countries.nunique(),\n",
    "                    'missing%': (countries.isna().sum() / countries.shape[0]) * 100\n",
    "                    })\n",
    "info.T"
   ]
  },
  {
   "cell_type": "markdown",
   "metadata": {},
   "source": [
    "## Handle missing data\n",
    "Since we might have problems related to regionality, i.e. countries in the same Region likely will share similar values. So, I chose to fill missing data with the Region mean.\n",
    "\n",
    "However, this approach still generates problems, for example, the **Climate** feature."
   ]
  },
  {
   "cell_type": "code",
   "execution_count": 7,
   "metadata": {},
   "outputs": [
    {
     "output_type": "execute_result",
     "data": {
      "text/plain": "          Country                Region  Population  Area (sq. mi.)  \\\n0     Afghanistan  ASIA (EX. NEAR EAST)    31056997          647500   \n1         Albania        EASTERN EUROPE     3581655           28748   \n2         Algeria       NORTHERN AFRICA    32930091         2381740   \n3  American Samoa               OCEANIA       57794             199   \n4         Andorra        WESTERN EUROPE       71201             468   \n\n   Pop. Density (per sq. mi.)  Coastline (coast/area ratio)  Net migration  \\\n0                        48.0                          0.00          23.06   \n1                       124.6                          1.26          -4.93   \n2                        13.8                          0.04          -0.39   \n3                       290.4                         58.29         -20.71   \n4                       152.1                          0.00           6.60   \n\n   Infant mortality (per 1000 births)  GDP ($ per capita)  Literacy (%)  \\\n0                              163.07               700.0          36.0   \n1                               21.52              4500.0          86.5   \n2                               31.00              6000.0          70.0   \n3                                9.27              8000.0          97.0   \n4                                4.05             19000.0         100.0   \n\n   Phones (per 1000)  Arable (%)  Crops (%)  Other (%)  Climate  Birthrate  \\\n0                3.2       12.13       0.22      87.65      1.0      46.60   \n1               71.2       21.09       4.42      74.49      3.0      15.11   \n2               78.1        3.22       0.25      96.53      1.0      17.14   \n3              259.5       10.00      15.00      75.00      2.0      22.46   \n4              497.2        2.22       0.00      97.78      3.0       8.71   \n\n   Deathrate  Agriculture  Industry   Service  \n0      20.34     0.380000  0.240000  0.380000  \n1       5.22     0.232000  0.188000  0.579000  \n2       4.61     0.101000  0.600000  0.298000  \n3       3.27     0.175125  0.215250  0.608937  \n4       6.25     0.044480  0.246083  0.714625  ",
      "text/html": "<div>\n<style scoped>\n    .dataframe tbody tr th:only-of-type {\n        vertical-align: middle;\n    }\n\n    .dataframe tbody tr th {\n        vertical-align: top;\n    }\n\n    .dataframe thead th {\n        text-align: right;\n    }\n</style>\n<table border=\"1\" class=\"dataframe\">\n  <thead>\n    <tr style=\"text-align: right;\">\n      <th></th>\n      <th>Country</th>\n      <th>Region</th>\n      <th>Population</th>\n      <th>Area (sq. mi.)</th>\n      <th>Pop. Density (per sq. mi.)</th>\n      <th>Coastline (coast/area ratio)</th>\n      <th>Net migration</th>\n      <th>Infant mortality (per 1000 births)</th>\n      <th>GDP ($ per capita)</th>\n      <th>Literacy (%)</th>\n      <th>Phones (per 1000)</th>\n      <th>Arable (%)</th>\n      <th>Crops (%)</th>\n      <th>Other (%)</th>\n      <th>Climate</th>\n      <th>Birthrate</th>\n      <th>Deathrate</th>\n      <th>Agriculture</th>\n      <th>Industry</th>\n      <th>Service</th>\n    </tr>\n  </thead>\n  <tbody>\n    <tr>\n      <th>0</th>\n      <td>Afghanistan</td>\n      <td>ASIA (EX. NEAR EAST)</td>\n      <td>31056997</td>\n      <td>647500</td>\n      <td>48.0</td>\n      <td>0.00</td>\n      <td>23.06</td>\n      <td>163.07</td>\n      <td>700.0</td>\n      <td>36.0</td>\n      <td>3.2</td>\n      <td>12.13</td>\n      <td>0.22</td>\n      <td>87.65</td>\n      <td>1.0</td>\n      <td>46.60</td>\n      <td>20.34</td>\n      <td>0.380000</td>\n      <td>0.240000</td>\n      <td>0.380000</td>\n    </tr>\n    <tr>\n      <th>1</th>\n      <td>Albania</td>\n      <td>EASTERN EUROPE</td>\n      <td>3581655</td>\n      <td>28748</td>\n      <td>124.6</td>\n      <td>1.26</td>\n      <td>-4.93</td>\n      <td>21.52</td>\n      <td>4500.0</td>\n      <td>86.5</td>\n      <td>71.2</td>\n      <td>21.09</td>\n      <td>4.42</td>\n      <td>74.49</td>\n      <td>3.0</td>\n      <td>15.11</td>\n      <td>5.22</td>\n      <td>0.232000</td>\n      <td>0.188000</td>\n      <td>0.579000</td>\n    </tr>\n    <tr>\n      <th>2</th>\n      <td>Algeria</td>\n      <td>NORTHERN AFRICA</td>\n      <td>32930091</td>\n      <td>2381740</td>\n      <td>13.8</td>\n      <td>0.04</td>\n      <td>-0.39</td>\n      <td>31.00</td>\n      <td>6000.0</td>\n      <td>70.0</td>\n      <td>78.1</td>\n      <td>3.22</td>\n      <td>0.25</td>\n      <td>96.53</td>\n      <td>1.0</td>\n      <td>17.14</td>\n      <td>4.61</td>\n      <td>0.101000</td>\n      <td>0.600000</td>\n      <td>0.298000</td>\n    </tr>\n    <tr>\n      <th>3</th>\n      <td>American Samoa</td>\n      <td>OCEANIA</td>\n      <td>57794</td>\n      <td>199</td>\n      <td>290.4</td>\n      <td>58.29</td>\n      <td>-20.71</td>\n      <td>9.27</td>\n      <td>8000.0</td>\n      <td>97.0</td>\n      <td>259.5</td>\n      <td>10.00</td>\n      <td>15.00</td>\n      <td>75.00</td>\n      <td>2.0</td>\n      <td>22.46</td>\n      <td>3.27</td>\n      <td>0.175125</td>\n      <td>0.215250</td>\n      <td>0.608937</td>\n    </tr>\n    <tr>\n      <th>4</th>\n      <td>Andorra</td>\n      <td>WESTERN EUROPE</td>\n      <td>71201</td>\n      <td>468</td>\n      <td>152.1</td>\n      <td>0.00</td>\n      <td>6.60</td>\n      <td>4.05</td>\n      <td>19000.0</td>\n      <td>100.0</td>\n      <td>497.2</td>\n      <td>2.22</td>\n      <td>0.00</td>\n      <td>97.78</td>\n      <td>3.0</td>\n      <td>8.71</td>\n      <td>6.25</td>\n      <td>0.044480</td>\n      <td>0.246083</td>\n      <td>0.714625</td>\n    </tr>\n  </tbody>\n</table>\n</div>"
     },
     "metadata": {},
     "execution_count": 7
    }
   ],
   "source": [
    "countries_fill = countries.copy()\n",
    "\n",
    "# Get cols name\n",
    "numeric_cols = countries_fill._get_numeric_data().columns.tolist()\n",
    "\n",
    "# Iterate to fill nan with mean values from groupby per Region\n",
    "for col in numeric_cols:\n",
    "    countries_fill[col] = countries_fill.groupby(\"Region\")[col].apply(lambda x: x.fillna(x.mean()))\n",
    "\n",
    "countries_fill.head(5)"
   ]
  },
  {
   "cell_type": "markdown",
   "metadata": {},
   "source": [
    "## Inicia sua análise a partir daqui"
   ]
  },
  {
   "cell_type": "code",
   "execution_count": 9,
   "metadata": {},
   "outputs": [],
   "source": [
    "# Sua análise começa aqui."
   ]
  },
  {
   "cell_type": "markdown",
   "metadata": {},
   "source": [
    "## Questão 1\n",
    "\n",
    "Quais são as regiões (variável `Region`) presentes no _data set_? Retorne uma lista com as regiões únicas do _data set_ com os espaços à frente e atrás da string removidos (mas mantenha pontuação: ponto, hífen etc) e ordenadas em ordem alfabética."
   ]
  },
  {
   "cell_type": "code",
   "execution_count": 10,
   "metadata": {},
   "outputs": [
    {
     "output_type": "execute_result",
     "data": {
      "text/plain": "['ASIA (EX. NEAR EAST)',\n 'BALTICS',\n 'C.W. OF IND. STATES',\n 'EASTERN EUROPE',\n 'LATIN AMER. & CARIB',\n 'NEAR EAST',\n 'NORTHERN AFRICA',\n 'NORTHERN AMERICA',\n 'OCEANIA',\n 'SUB-SAHARAN AFRICA',\n 'WESTERN EUROPE']"
     },
     "metadata": {},
     "execution_count": 10
    }
   ],
   "source": [
    "def q1():\n",
    "    # Retorne aqui o resultado da questão 1.\n",
    "    return sorted(countries_fill['Region'].unique())\n",
    "q1()"
   ]
  },
  {
   "cell_type": "markdown",
   "metadata": {},
   "source": [
    "## Questão 2\n",
    "\n",
    "Discretizando a variável `Pop_density` em 10 intervalos com `KBinsDiscretizer`, seguindo o encode `ordinal` e estratégia `quantile`, quantos países se encontram acima do 90º percentil? Responda como um único escalar inteiro."
   ]
  },
  {
   "cell_type": "markdown",
   "metadata": {},
   "source": [
    "## Useful resource\n",
    "*  https://pbpython.com/pandas-qcut-cut.html\n",
    "\n",
    "*  https://towardsdatascience.com/feature-engineering-for-machine-learning-3a5e293a5114"
   ]
  },
  {
   "cell_type": "code",
   "execution_count": 11,
   "metadata": {},
   "outputs": [
    {
     "output_type": "execute_result",
     "data": {
      "text/plain": "23"
     },
     "metadata": {},
     "execution_count": 11
    }
   ],
   "source": [
    "def q2():\n",
    "    # Retorne aqui o resultado da questão 2.\n",
    "    # Transform Pop Density to numpy array and reshape it\n",
    "    # Each value will be an array\n",
    "    pop_density = countries_fill['Pop. Density (per sq. mi.)'].to_numpy()\n",
    "    pop_density = pop_density.reshape((-1,1))\n",
    "\n",
    "    # Calling sklearn KBins and fitting\n",
    "    kbins = KBinsDiscretizer(n_bins=10, encode='ordinal', strategy='quantile')\n",
    "    kbins_popd = kbins.fit(pop_density.tolist())\n",
    "\n",
    "    # Get the 90th percentile\n",
    "    percentil_90 = kbins_popd.bin_edges_[0][9]\n",
    "\n",
    "    # Slice dataset to countries > p90 \n",
    "    countries_above_p90 = countries_fill[countries_fill['Pop. Density (per sq. mi.)'] > percentil_90 ]\n",
    "    return int(countries_above_p90['Country'].count())\n",
    "q2()"
   ]
  },
  {
   "cell_type": "markdown",
   "metadata": {},
   "source": [
    "# Questão 3\n",
    "\n",
    "Se codificarmos as variáveis `Region` e `Climate` usando _one-hot encoding_, quantos novos atributos seriam criados? Responda como um único escalar.\n",
    "\n",
    "Useful resource: https://towardsdatascience.com/categorical-encoding-using-label-encoding-and-one-hot-encoder-911ef77fb5bd"
   ]
  },
  {
   "cell_type": "markdown",
   "metadata": {},
   "source": [
    "### Solving by using One Hot Encoding (OHE)\n",
    "This question raises a problem related to missing data. Previously, I chose to fillna() by using the mean from groupby() of Region. However, doing this I created new values for the Climate variable, which changed the count of unique values (as showed on code bellow). One option to overcome this could be filling nan values with mode, but this will cause other problems."
   ]
  },
  {
   "cell_type": "code",
   "execution_count": 12,
   "metadata": {},
   "outputs": [
    {
     "output_type": "execute_result",
     "data": {
      "text/plain": "23"
     },
     "metadata": {},
     "execution_count": 12
    }
   ],
   "source": [
    "climate = countries_fill[['Climate']].to_numpy().reshape((-1,1))\n",
    "region = countries_fill[['Region']].to_numpy().reshape((-1,1))\n",
    "\n",
    "# Create OneHotEnconder on data\n",
    "label_encoder = OneHotEncoder(categories='auto')\n",
    "climate_OHE = label_encoder.fit_transform(climate).toarray()\n",
    "region_OHE = label_encoder.fit_transform(region).toarray()\n",
    "\n",
    "# The columns number will be the new features created\n",
    "new_cols = climate_OHE.shape[1] + region_OHE.shape[1]\n",
    "new_cols"
   ]
  },
  {
   "cell_type": "markdown",
   "metadata": {},
   "source": [
    "### Solving by dataframe shape\n",
    "Since the question asked \"how many columns will be created by applying One Hot Encoding\", I can achieve this answer by adding the number of unique values from both datasets (Climate and Region), a solution more straightforward. Also, the answer accepted \"consider\" the nan as a possible feature."
   ]
  },
  {
   "cell_type": "code",
   "execution_count": 13,
   "metadata": {},
   "outputs": [
    {
     "output_type": "execute_result",
     "data": {
      "text/plain": "18"
     },
     "metadata": {},
     "execution_count": 13
    }
   ],
   "source": [
    "def q3():\n",
    "    # Retorne aqui o resultado da questão 3.\n",
    "    return countries['Region'].nunique() + len(countries['Climate'].unique())\n",
    "q3()"
   ]
  },
  {
   "cell_type": "markdown",
   "metadata": {},
   "source": [
    "## Questão 4\n",
    "\n",
    "Aplique o seguinte _pipeline_:\n",
    "\n",
    "1. Preencha as variáveis do tipo `int64` e `float64` com suas respectivas medianas.\n",
    "2. Padronize essas variáveis.\n",
    "\n",
    "Após aplicado o _pipeline_ descrito acima aos dados (somente nas variáveis dos tipos especificados), aplique o mesmo _pipeline_ (ou `ColumnTransformer`) ao dado abaixo. Qual o valor da variável `Arable` após o _pipeline_? Responda como um único float arredondado para três casas decimais."
   ]
  },
  {
   "cell_type": "code",
   "execution_count": 14,
   "metadata": {},
   "outputs": [],
   "source": [
    "# Catch all numeric columns\n",
    "numeric_cols\n",
    "\n",
    "# Pipeline for numerical data \n",
    "# 1. fillna with median \n",
    "# 2. Standardization\n",
    "preprocess = Pipeline(steps=[\n",
    "                        ('imput', SimpleImputer(missing_values=np.nan, strategy='median')),\n",
    "                        ('standard', StandardScaler())\n",
    "                        ])\n",
    "\n",
    "preprocessing_country = preprocess.fit(countries[numeric_cols])"
   ]
  },
  {
   "cell_type": "markdown",
   "metadata": {},
   "source": [
    "### Keep in mind...\n",
    "*  **Why use pipeline?** Because you can join all process in one step and apply it for multiple columns\n",
    "\n",
    "    Example: https://jorisvandenbossche.github.io/blog/2018/05/28/scikit-learn-columntransformer/\n",
    "\n",
    "\n",
    "*   **Why use ColumnTransform**? Maybe you need to handle numeric and categorical data... To do so, you can create a pipeline for each data type (i.e. numerical and categorical data) and apply both transformations at the same time. \n",
    "\n",
    "    Example: https://stackoverflow.com/questions/54646709/sklearn-pipeline-get-feature-name-after-onehotencode-in-columntransformer/54648023"
   ]
  },
  {
   "cell_type": "code",
   "execution_count": 15,
   "metadata": {},
   "outputs": [],
   "source": [
    "test_country = [\n",
    "    'Test Country', 'NEAR EAST', -0.19032480757326514,\n",
    "    -0.3232636124824411, -0.04421734470810142, -0.27528113360605316,\n",
    "    0.13255850810281325, -0.8054845935643491, 1.0119784924248225,\n",
    "    0.6189182532646624, 1.0074863283776458, 0.20239896852403538,\n",
    "    -0.043678728558593366, -0.13929748680369286, 1.3163604645710438,\n",
    "    -0.3699637766938669, -0.6149300604558857, -0.854369594993175,\n",
    "    0.263445277972641, 0.5712416961268142\n",
    "]"
   ]
  },
  {
   "cell_type": "code",
   "execution_count": 16,
   "metadata": {},
   "outputs": [
    {
     "output_type": "execute_result",
     "data": {
      "text/plain": "        Country     Region Population Area (sq. mi.)  \\\n0  Test Country  NEAR EAST  -0.190325      -0.323264   \n\n  Pop. Density (per sq. mi.) Coastline (coast/area ratio) Net migration  \\\n0                 -0.0442173                    -0.275281      0.132559   \n\n  Infant mortality (per 1000 births) GDP ($ per capita) Literacy (%)  \\\n0                          -0.805485            1.01198     0.618918   \n\n  Phones (per 1000) Arable (%)  Crops (%) Other (%)  Climate Birthrate  \\\n0           1.00749   0.202399 -0.0436787 -0.139297  1.31636 -0.369964   \n\n  Deathrate Agriculture  Industry   Service  \n0  -0.61493    -0.85437  0.263445  0.571242  ",
      "text/html": "<div>\n<style scoped>\n    .dataframe tbody tr th:only-of-type {\n        vertical-align: middle;\n    }\n\n    .dataframe tbody tr th {\n        vertical-align: top;\n    }\n\n    .dataframe thead th {\n        text-align: right;\n    }\n</style>\n<table border=\"1\" class=\"dataframe\">\n  <thead>\n    <tr style=\"text-align: right;\">\n      <th></th>\n      <th>Country</th>\n      <th>Region</th>\n      <th>Population</th>\n      <th>Area (sq. mi.)</th>\n      <th>Pop. Density (per sq. mi.)</th>\n      <th>Coastline (coast/area ratio)</th>\n      <th>Net migration</th>\n      <th>Infant mortality (per 1000 births)</th>\n      <th>GDP ($ per capita)</th>\n      <th>Literacy (%)</th>\n      <th>Phones (per 1000)</th>\n      <th>Arable (%)</th>\n      <th>Crops (%)</th>\n      <th>Other (%)</th>\n      <th>Climate</th>\n      <th>Birthrate</th>\n      <th>Deathrate</th>\n      <th>Agriculture</th>\n      <th>Industry</th>\n      <th>Service</th>\n    </tr>\n  </thead>\n  <tbody>\n    <tr>\n      <th>0</th>\n      <td>Test Country</td>\n      <td>NEAR EAST</td>\n      <td>-0.190325</td>\n      <td>-0.323264</td>\n      <td>-0.0442173</td>\n      <td>-0.275281</td>\n      <td>0.132559</td>\n      <td>-0.805485</td>\n      <td>1.01198</td>\n      <td>0.618918</td>\n      <td>1.00749</td>\n      <td>0.202399</td>\n      <td>-0.0436787</td>\n      <td>-0.139297</td>\n      <td>1.31636</td>\n      <td>-0.369964</td>\n      <td>-0.61493</td>\n      <td>-0.85437</td>\n      <td>0.263445</td>\n      <td>0.571242</td>\n    </tr>\n  </tbody>\n</table>\n</div>"
     },
     "metadata": {},
     "execution_count": 16
    }
   ],
   "source": [
    "# Creating a dataframa from contry test and reshaping\n",
    "test_country = pd.DataFrame(test_country).T\n",
    "test_country.columns = countries.columns\n",
    "test_country"
   ]
  },
  {
   "cell_type": "code",
   "execution_count": 17,
   "metadata": {},
   "outputs": [
    {
     "output_type": "execute_result",
     "data": {
      "text/plain": "-1.047"
     },
     "metadata": {},
     "execution_count": 17
    }
   ],
   "source": [
    "def q4():\n",
    "    # Retorne aqui o resultado da questão 4.\n",
    "    # Applying fitted to test_country\n",
    "    test_processed = preprocessing_country.transform(test_country[numeric_cols])\n",
    "    return float(round(test_processed[0, 9], 3))\n",
    "\n",
    "q4()"
   ]
  },
  {
   "cell_type": "markdown",
   "metadata": {},
   "source": [
    "## Questão 5\n",
    "\n",
    "Descubra o número de _outliers_ da variável `Net_migration` segundo o método do _boxplot_, ou seja, usando a lógica:\n",
    "\n",
    "$$x \\notin [Q1 - 1.5 \\times \\text{IQR}, Q3 + 1.5 \\times \\text{IQR}] \\Rightarrow x \\text{ é outlier}$$\n",
    "\n",
    "que se encontram no grupo inferior e no grupo superior.\n",
    "\n",
    "Você deveria remover da análise as observações consideradas _outliers_ segundo esse método? Responda como uma tupla de três elementos `(outliers_abaixo, outliers_acima, removeria?)` ((int, int, bool))."
   ]
  },
  {
   "cell_type": "code",
   "execution_count": 18,
   "metadata": {},
   "outputs": [],
   "source": [
    "country_q1, country_q3 = countries.quantile(q=0.25), countries.quantile(q=0.75)"
   ]
  },
  {
   "cell_type": "code",
   "execution_count": 19,
   "metadata": {},
   "outputs": [
    {
     "output_type": "execute_result",
     "data": {
      "text/plain": "(24, 26, False)"
     },
     "metadata": {},
     "execution_count": 19
    }
   ],
   "source": [
    "def q5():\n",
    "    # Retorne aqui o resultado da questão 4.\n",
    "    # Boxplot higher and lower tails\n",
    "    country_q1, country_q3 = countries.quantile(q=0.25), countries.quantile(q=0.75)\n",
    "    iqr = country_q3 - country_q1\n",
    "    lower, higher = country_q1 - 1.5 * iqr,  country_q3 + 1.5 * iqr\n",
    "\n",
    "    # Extract values from above and below tail\n",
    "    outlier_lower = countries[countries < lower]\n",
    "    outlier_higher = countries[countries > higher]\n",
    "\n",
    "    result = (\n",
    "            int(outlier_lower['Net migration'].dropna().count()), \n",
    "            int(outlier_higher['Net migration'].dropna().count()),\n",
    "            False)\n",
    "\n",
    "    return result\n",
    "q5()"
   ]
  },
  {
   "cell_type": "markdown",
   "metadata": {},
   "source": [
    "## Questão 6\n",
    "Para as questões 6 e 7 utilize a biblioteca `fetch_20newsgroups` de datasets de test do `sklearn`\n",
    "\n",
    "Considere carregar as seguintes categorias e o dataset `newsgroups`:\n",
    "\n",
    "```\n",
    "categories = ['sci.electronics', 'comp.graphics', 'rec.motorcycles']\n",
    "newsgroup = fetch_20newsgroups(subset=\"train\", categories=categories, shuffle=True, random_state=42)\n",
    "```\n",
    "\n",
    "\n",
    "Aplique `CountVectorizer` ao _data set_ `newsgroups` e descubra o número de vezes que a palavra _phone_ aparece no corpus. Responda como um único escalar."
   ]
  },
  {
   "cell_type": "code",
   "execution_count": 20,
   "metadata": {},
   "outputs": [],
   "source": [
    "# dataset\n",
    "categories = ['sci.electronics', 'comp.graphics', 'rec.motorcycles']\n",
    "newsgroup = fetch_20newsgroups(subset=\"train\", categories=categories, shuffle=True, random_state=42)"
   ]
  },
  {
   "cell_type": "code",
   "execution_count": 21,
   "metadata": {},
   "outputs": [
    {
     "output_type": "execute_result",
     "data": {
      "text/plain": "213"
     },
     "metadata": {},
     "execution_count": 21
    }
   ],
   "source": [
    "def q6():\n",
    "    # Retorne aqui o resultado da questão 4.\n",
    "\n",
    "\n",
    "    # Word count by sklearn\n",
    "    vectorizer = CountVectorizer()\n",
    "    newsgroup_vector = vectorizer.fit_transform(newsgroup['data'])\n",
    "    newsgroup_matrix = newsgroup_vector.toarray()\n",
    "\n",
    "    # Feature names\n",
    "    words_list = vectorizer.get_feature_names()\n",
    "\n",
    "    # Checking if matrix and words_list have same shape\n",
    "    newsgroup_matrix.shape[1] == len(words_list)\n",
    "\n",
    "    word_count = dict(zip(words_list, newsgroup_matrix.sum(axis=0)))\n",
    "    return int(word_count['phone'])\n",
    "q6()"
   ]
  },
  {
   "cell_type": "markdown",
   "metadata": {},
   "source": [
    "## Questão 7\n",
    "\n",
    "Aplique `TfidfVectorizer` ao _data set_ `newsgroups` e descubra o TF-IDF da palavra _phone_. Responda como um único escalar arredondado para três casas decimais."
   ]
  },
  {
   "cell_type": "markdown",
   "metadata": {},
   "source": [
    "### What is TF-IDF?\n",
    "> \"Term Frequency - Inverse Document Frequency (...), this is performed by looking at how many times a word appears into a document while also paying attention to how many times the same word appears in other documents in the corpus.\"\n",
    "\n",
    "> info: https://programmerbackpack.com/tf-idf-explained-and-python-implementation/"
   ]
  },
  {
   "cell_type": "code",
   "execution_count": 22,
   "metadata": {},
   "outputs": [
    {
     "output_type": "execute_result",
     "data": {
      "text/plain": "8.888"
     },
     "metadata": {},
     "execution_count": 22
    }
   ],
   "source": [
    "def q7():\n",
    "    # Retorne aqui o resultado da questão 4.\n",
    "    tf_vector = TfidfVectorizer(use_idf=True)\n",
    "    newsgroup_tfvector = tf_vector.fit_transform(newsgroup['data'])\n",
    "\n",
    "    # Get feature names and tf array\n",
    "    tf_names = tf_vector.get_feature_names()\n",
    "    tf_array = newsgroup_tfvector.toarray()\n",
    "\n",
    "    # Dict with data\n",
    "    tf_dict = dict(zip(tf_names, tf_array.sum(axis=0)))\n",
    "\n",
    "    return float(round(tf_dict['phone'], 3))\n",
    "q7()"
   ]
  }
 ],
 "metadata": {
  "kernelspec": {
   "display_name": "Python 3",
   "language": "python",
   "name": "python3"
  },
  "language_info": {
   "codemirror_mode": {
    "name": "ipython",
    "version": 3
   },
   "file_extension": ".py",
   "mimetype": "text/x-python",
   "name": "python",
   "nbconvert_exporter": "python",
   "pygments_lexer": "ipython3",
   "version": "3.8.3-final"
  }
 },
 "nbformat": 4,
 "nbformat_minor": 2
}